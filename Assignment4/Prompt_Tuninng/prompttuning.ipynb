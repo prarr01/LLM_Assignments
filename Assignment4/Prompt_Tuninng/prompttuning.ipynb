{
 "cells": [
  {
   "cell_type": "markdown",
   "id": "1f592f55",
   "metadata": {},
   "source": [
    "## 🧩Task: Sentiment Analysis\n",
    "\n",
    "### Sample Input:\n",
    "> \"I really loved that movie! The acting was amazing, and the story kept me engaged throughout.\"\n",
    "\n",
    "### Expected Output:\n",
    "> **Positive**\n",
    "\n",
    "---\n",
    "\n",
    "##  Step 1: Base Prompt (Baseline)\n",
    "\n",
    "**Prompt:**\n",
    "> Is the sentiment of the following text positive or negative?  \n",
    "> \"I really loved that movie! The acting was amazing, and the story kept me engaged throughout.\"\n",
    "\n",
    "**Simulated Model Output:**\n",
    "**Accuracy:** Correct  \n",
    "**Clarity:** Low instruction specificity  \n",
    " **Consistency Risk:** Output may vary depending on model interpretation\n"
   ]
  },
  {
   "cell_type": "markdown",
   "id": "a19963c8",
   "metadata": {},
   "source": [
    "## Step 2: Prompt Tuning Method 1 – Manual Refinement\n",
    "\n",
    "Improving clarity and enforcing a specific output format.\n",
    "\n",
    "**Improved Prompt:**\n",
    "> What is the sentiment of this review? Answer only with \"positive\" or \"negative\".  \n",
    "> \"I really loved that movie! The acting was amazing, and the story kept me engaged throughout.\"\n",
    "\n",
    "**Simulated Output:**\n",
    "**Accuracy:** Correct  \n",
    "**Clarity:** Improved  \n",
    "**Structure:** Enforces consistent output\n"
   ]
  },
  {
   "cell_type": "markdown",
   "id": "bb4ff6c4",
   "metadata": {},
   "source": [
    "## Step 3: Prompt Tuning Method 2 – Chain-of-Thought (CoT)\n",
    "\n",
    "Encouraging logical reasoning before giving the final answer.\n",
    "\n",
    "**Prompt:**\n",
    "> Let's determine the sentiment of the following review step by step:  \n",
    "> \"I really loved that movie! The acting was amazing, and the story kept me engaged throughout.\"  \n",
    "> Step 1: Identify emotional tone in the text.  \n",
    "> Step 2: Look for positive or negative keywords.  \n",
    "> Step 3: Decide if the overall sentiment is positive or negative.\n",
    "\n",
    "**Simulated Output:**\n",
    "**Accuracy:** Correct  \n",
    "**Clarity:** Very high  \n",
    "**Reasoning Insight:** Demonstrates internal logic  \n",
    "Most effective for complex or ambiguous examples\n"
   ]
  },
  {
   "cell_type": "markdown",
   "id": "32bd2e31",
   "metadata": {},
   "source": [
    "## Conclusion\n",
    " Prompt tuning significantly improves both the **accuracy** and **interpretability** of model responses. Among the tested approaches, **Chain-of-Thought prompting** delivers the most robust and explainable results."
   ]
  }
 ],
 "metadata": {
  "language_info": {
   "name": "python"
  }
 },
 "nbformat": 4,
 "nbformat_minor": 5
}
