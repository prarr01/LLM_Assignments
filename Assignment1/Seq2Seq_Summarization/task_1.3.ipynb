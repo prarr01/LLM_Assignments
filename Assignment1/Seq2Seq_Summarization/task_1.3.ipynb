{
 "cells": [
  {
   "cell_type": "markdown",
   "metadata": {
    "id": "IEq-oYpmSM5r"
   },
   "source": [
    "# **Text Summarization**"
   ]
  },
  {
   "cell_type": "markdown",
   "metadata": {},
   "source": [
    "# **Import Module**"
   ]
  },
  {
   "cell_type": "code",
   "execution_count": 5,
   "metadata": {
    "execution": {
     "iopub.execute_input": "2024-08-11T16:03:15.656114Z",
     "iopub.status.busy": "2024-08-11T16:03:15.655701Z",
     "iopub.status.idle": "2024-08-11T16:03:24.968346Z",
     "shell.execute_reply": "2024-08-11T16:03:24.967306Z",
     "shell.execute_reply.started": "2024-08-11T16:03:15.656079Z"
    },
    "trusted": true
   },
   "outputs": [
    {
     "name": "stdout",
     "output_type": "stream",
     "text": [
      "Collecting contractions\n",
      "  Downloading contractions-0.1.73-py2.py3-none-any.whl (8.7 kB)\n",
      "Collecting textsearch>=0.0.21\n",
      "  Downloading textsearch-0.0.24-py2.py3-none-any.whl (7.6 kB)\n",
      "Collecting pyahocorasick\n",
      "  Downloading pyahocorasick-2.0.0-cp37-cp37m-manylinux_2_5_x86_64.manylinux1_x86_64.whl (101 kB)\n",
      "\u001b[K     |████████████████████████████████| 101 kB 6.9 MB/s eta 0:00:01\n",
      "\u001b[?25hCollecting anyascii\n",
      "  Downloading anyascii-0.3.2-py3-none-any.whl (289 kB)\n",
      "\u001b[K     |████████████████████████████████| 289 kB 68.2 MB/s eta 0:00:01\n",
      "\u001b[?25hInstalling collected packages: pyahocorasick, anyascii, textsearch, contractions\n",
      "Successfully installed anyascii-0.3.2 contractions-0.1.73 pyahocorasick-2.0.0 textsearch-0.0.24\n",
      "\u001b[33mWARNING: Running pip as root will break packages and permissions. You should install packages reliably by using venv: https://pip.pypa.io/warnings/venv\u001b[0m\n",
      "Note: you may need to restart the kernel to use updated packages.\n"
     ]
    }
   ],
   "source": [
    "pip install contractions"
   ]
  },
  {
   "cell_type": "code",
   "execution_count": 6,
   "metadata": {
    "execution": {
     "iopub.execute_input": "2024-08-11T16:03:24.970881Z",
     "iopub.status.busy": "2024-08-11T16:03:24.970466Z",
     "iopub.status.idle": "2024-08-11T16:03:29.797029Z",
     "shell.execute_reply": "2024-08-11T16:03:29.796097Z",
     "shell.execute_reply.started": "2024-08-11T16:03:24.970814Z"
    },
    "id": "lisXNzYrYOoR",
    "outputId": "4ff65cf3-36bb-49c2-a6c3-08070c9233a0",
    "trusted": true
   },
   "outputs": [
    {
     "name": "stdout",
     "output_type": "stream",
     "text": [
      "[nltk_data] Downloading package stopwords to /usr/share/nltk_data...\n",
      "[nltk_data]   Package stopwords is already up-to-date!\n"
     ]
    }
   ],
   "source": [
    "import re\n",
    "import os\n",
    "import numpy as np\n",
    "import pandas as pd\n",
    "import matplotlib.pyplot as plt\n",
    "\n",
    "import nltk\n",
    "nltk.download('stopwords')\n",
    "from nltk.corpus import stopwords\n",
    "import contractions\n",
    "from keras.preprocessing.text import Tokenizer\n",
    "from keras.preprocessing.sequence import pad_sequences\n",
    "\n",
    "import tensorflow as tf\n",
    "from tensorflow.keras.layers import Input, LSTM, Embedding, Dense, Concatenate, TimeDistributed, Bidirectional\n",
    "from tensorflow.keras.models import Model\n",
    "from tensorflow.keras.callbacks import EarlyStopping\n",
    "from keras import backend as K \n",
    "from tensorflow.python.keras.layers import Layer\n"
   ]
  },
  {
   "cell_type": "markdown",
   "metadata": {
    "id": "GSr24NviXqio"
   },
   "source": [
    "# **Import Data**"
   ]
  },
  {
   "cell_type": "markdown",
   "metadata": {},
   "source": [
    "The code snippet sets up the environment to load a CSV file containing news summaries into a pandas DataFrame and displays the first few rows to inspect the data."
   ]
  },
  {
   "cell_type": "code",
   "execution_count": null,
   "metadata": {
    "execution": {
     "iopub.execute_input": "2024-08-11T16:03:29.799422Z",
     "iopub.status.busy": "2024-08-11T16:03:29.799047Z",
     "iopub.status.idle": "2024-08-11T16:03:30.669877Z",
     "shell.execute_reply": "2024-08-11T16:03:30.668986Z",
     "shell.execute_reply.started": "2024-08-11T16:03:29.799381Z"
    },
    "trusted": true
   },
   "outputs": [
    {
     "data": {
      "text/html": [
       "<div>\n",
       "<style scoped>\n",
       "    .dataframe tbody tr th:only-of-type {\n",
       "        vertical-align: middle;\n",
       "    }\n",
       "\n",
       "    .dataframe tbody tr th {\n",
       "        vertical-align: top;\n",
       "    }\n",
       "\n",
       "    .dataframe thead th {\n",
       "        text-align: right;\n",
       "    }\n",
       "</style>\n",
       "<table border=\"1\" class=\"dataframe\">\n",
       "  <thead>\n",
       "    <tr style=\"text-align: right;\">\n",
       "      <th></th>\n",
       "      <th>headlines</th>\n",
       "      <th>text</th>\n",
       "    </tr>\n",
       "  </thead>\n",
       "  <tbody>\n",
       "    <tr>\n",
       "      <th>0</th>\n",
       "      <td>upGrad learner switches to career in ML &amp; Al w...</td>\n",
       "      <td>Saurav Kant, an alumnus of upGrad and IIIT-B's...</td>\n",
       "    </tr>\n",
       "    <tr>\n",
       "      <th>1</th>\n",
       "      <td>Delhi techie wins free food from Swiggy for on...</td>\n",
       "      <td>Kunal Shah's credit card bill payment platform...</td>\n",
       "    </tr>\n",
       "    <tr>\n",
       "      <th>2</th>\n",
       "      <td>New Zealand end Rohit Sharma-led India's 12-ma...</td>\n",
       "      <td>New Zealand defeated India by 8 wickets in the...</td>\n",
       "    </tr>\n",
       "    <tr>\n",
       "      <th>3</th>\n",
       "      <td>Aegon life iTerm insurance plan helps customer...</td>\n",
       "      <td>With Aegon Life iTerm Insurance plan, customer...</td>\n",
       "    </tr>\n",
       "    <tr>\n",
       "      <th>4</th>\n",
       "      <td>Have known Hirani for yrs, what if MeToo claim...</td>\n",
       "      <td>Speaking about the sexual harassment allegatio...</td>\n",
       "    </tr>\n",
       "  </tbody>\n",
       "</table>\n",
       "</div>"
      ],
      "text/plain": [
       "                                           headlines  \\\n",
       "0  upGrad learner switches to career in ML & Al w...   \n",
       "1  Delhi techie wins free food from Swiggy for on...   \n",
       "2  New Zealand end Rohit Sharma-led India's 12-ma...   \n",
       "3  Aegon life iTerm insurance plan helps customer...   \n",
       "4  Have known Hirani for yrs, what if MeToo claim...   \n",
       "\n",
       "                                                text  \n",
       "0  Saurav Kant, an alumnus of upGrad and IIIT-B's...  \n",
       "1  Kunal Shah's credit card bill payment platform...  \n",
       "2  New Zealand defeated India by 8 wickets in the...  \n",
       "3  With Aegon Life iTerm Insurance plan, customer...  \n",
       "4  Speaking about the sexual harassment allegatio...  "
      ]
     },
     "execution_count": 7,
     "metadata": {},
     "output_type": "execute_result"
    }
   ],
   "source": [
    "##Specifying the Path to the Dataset\n",
    "data_path = '../news_summary.csv'\n",
    "\n",
    "#Loading the Dataset\n",
    "data = pd.read_csv(data_path)\n",
    "\n",
    "#Displaying the First Few Rows\n",
    "data.head()"
   ]
  },
  {
   "cell_type": "code",
   "execution_count": 8,
   "metadata": {
    "execution": {
     "iopub.execute_input": "2024-08-11T16:03:30.671490Z",
     "iopub.status.busy": "2024-08-11T16:03:30.671228Z",
     "iopub.status.idle": "2024-08-11T16:03:30.719263Z",
     "shell.execute_reply": "2024-08-11T16:03:30.718503Z",
     "shell.execute_reply.started": "2024-08-11T16:03:30.671465Z"
    },
    "id": "Mis8W95SAZ5_",
    "trusted": true
   },
   "outputs": [],
   "source": [
    "#Removing Duplicates\n",
    "data.drop_duplicates(subset=['headlines'],inplace=True)\n",
    "\n",
    "#Resetting the Index\n",
    "data.reset_index(inplace=True, drop=True)"
   ]
  },
  {
   "cell_type": "markdown",
   "metadata": {},
   "source": [
    "# **Data Preprocessing**"
   ]
  },
  {
   "cell_type": "markdown",
   "metadata": {},
   "source": [
    "The preprocess function performs several steps to clean and standardize text data:\n",
    "* Converts text to lowercase.\n",
    "* Expands contractions.\n",
    "* Removes stop words.\n",
    "* Removes possessive 's and periods.\n",
    "* Removes text within parentheses.\n",
    "* Replaces non-alphanumeric characters (except periods and spaces) with spaces.\n",
    "* Ensures spaces follow periods.\n",
    "* Replaces multiple spaces with a single space."
   ]
  },
  {
   "cell_type": "code",
   "execution_count": 9,
   "metadata": {
    "execution": {
     "iopub.execute_input": "2024-08-11T16:03:30.720643Z",
     "iopub.status.busy": "2024-08-11T16:03:30.720389Z",
     "iopub.status.idle": "2024-08-11T16:03:30.729282Z",
     "shell.execute_reply": "2024-08-11T16:03:30.728497Z",
     "shell.execute_reply.started": "2024-08-11T16:03:30.720617Z"
    },
    "id": "BV8b6w9YYOoa",
    "trusted": true
   },
   "outputs": [],
   "source": [
    "#Loading Stop Words\n",
    "stop_words = stopwords.words('english')\n",
    "\n",
    "#Defining the preprocess Function\n",
    "def preprocess(text):\n",
    "    \n",
    "    #Converting Text to Lowercase\n",
    "    text = text.lower()\n",
    "    \n",
    "    #Expanding Contractions\n",
    "    text = ' '.join([contractions.fix(word) for word in text.split(\" \")])    \n",
    "    \n",
    "    #Removing Stop Words\n",
    "    tokens = [w for w in text.split() if not w in stop_words]\n",
    "    \n",
    "    #Additional Text Cleaning\n",
    "    text = \" \".join(tokens)\n",
    "    text = text.replace(\"'s\",'')\n",
    "    text = text.replace(\".\",'')\n",
    "    text = re.sub(r'\\(.*\\)','',text)\n",
    "    text = re.sub(r'[^a-zA-Z0-9. ]',' ',text)\n",
    "    text = re.sub(r'\\.','. ',text)\n",
    "    text = re.sub(r'\\s+', ' ', text)\n",
    "    \n",
    "    #Returning the Cleaned Text\n",
    "    return text"
   ]
  },
  {
   "cell_type": "markdown",
   "metadata": {},
   "source": [
    "The code preprocesses the text data in both the 'headlines' and 'text' columns, adds special tokens to the 'headlines', and prints the first two examples.\n",
    "* **Preprocessing Columns**: Both the 'headlines' and 'text' columns are preprocessed to clean and standardize the text using the preprocess function defined earlier. This ensures that the text is in a consistent format, which is crucial for tasks like text summarization or machine learning.\n",
    "* **Adding Tokens**: The start (_START_) and end (_END_) tokens are added to the 'headlines' to indicate the beginning and end of the summary. This is often done in sequence-to-sequence models, such as those used in text generation or summarization, to help the model understand where the summary starts and ends.\n",
    "* **Printing Examples**: Printing the first two processed entries allows for a quick inspection to ensure that the preprocessing steps have been applied correctly and to see examples of the formatted text and summaries."
   ]
  },
  {
   "cell_type": "code",
   "execution_count": 10,
   "metadata": {
    "execution": {
     "iopub.execute_input": "2024-08-11T16:03:30.730801Z",
     "iopub.status.busy": "2024-08-11T16:03:30.730437Z",
     "iopub.status.idle": "2024-08-11T16:04:22.377292Z",
     "shell.execute_reply": "2024-08-11T16:04:22.376302Z",
     "shell.execute_reply.started": "2024-08-11T16:03:30.730760Z"
    },
    "id": "ewSx5cepYOob",
    "outputId": "55b255a6-367f-4443-8184-650066137e32",
    "trusted": true
   },
   "outputs": [
    {
     "name": "stdout",
     "output_type": "stream",
     "text": [
      "Summary:\n",
      "_START_ upgrad learner switches career ml al 90 salary hike _END_\n",
      "Text:\n",
      "saurav kant alumnus upgrad iiit b pg program machine learning artificial intelligence sr systems engineer infosys almost 5 years work experience program upgrad 360 degree career support helped transition data scientist tech mahindra 90 salary hike upgrad online power learning powered 3 lakh careers\n",
      "\n",
      "Summary:\n",
      "_START_ delhi techie wins free food swiggy one year cred _END_\n",
      "Text:\n",
      "kunal shah credit card bill payment platform cred gave users chance win free food swiggy one year pranav kaushik delhi techie bagged reward spending 2000 cred coins users get one cred coin per rupee bill paid used avail rewards brands like ixigo bookmyshow ubereats cultfit more\n",
      "\n"
     ]
    }
   ],
   "source": [
    "#Preprocessing the 'headlines' Column\n",
    "data['headlines'] = data['headlines'].apply(preprocess)\n",
    "\n",
    "#Preprocessing the 'text' Column\n",
    "data['text'] = data['text'].apply(preprocess)\n",
    "\n",
    "#Adding Start and End Tokens to 'headlines'\n",
    "data['headlines'] = data['headlines'].apply(lambda x : '_START_ '+ x + ' _END_')\n",
    "\n",
    "#Printing Processed Examples\n",
    "for i in range(2):\n",
    "    print('Summary:', data['headlines'][i],'Text:', data['text'][i], sep='\\n')\n",
    "    print()"
   ]
  },
  {
   "cell_type": "markdown",
   "metadata": {},
   "source": [
    "The provided lines of code generate two lists: headlines_length and text_length. Each element in these lists represents the number of words in a corresponding entry in the 'headlines' and 'text' columns, respectively."
   ]
  },
  {
   "cell_type": "code",
   "execution_count": 11,
   "metadata": {
    "execution": {
     "iopub.execute_input": "2024-08-11T16:04:22.379091Z",
     "iopub.status.busy": "2024-08-11T16:04:22.378677Z",
     "iopub.status.idle": "2024-08-11T16:04:22.708622Z",
     "shell.execute_reply": "2024-08-11T16:04:22.707818Z",
     "shell.execute_reply.started": "2024-08-11T16:04:22.379049Z"
    },
    "id": "Tb68xRjGNP8z",
    "trusted": true
   },
   "outputs": [],
   "source": [
    "#Calculating the Lengths of 'headlines'\n",
    "headlines_length = [len(x.split()) for x in data.headlines]\n",
    "\n",
    "#Calculating the Lengths of 'text'\n",
    "text_length = [len(x.split()) for x in data.text]"
   ]
  },
  {
   "cell_type": "markdown",
   "metadata": {},
   "source": [
    "The code below creates a figure with two side-by-side histograms to visualize the distribution of word counts in the 'headlines' and 'text' columns of the DataFrame."
   ]
  },
  {
   "cell_type": "code",
   "execution_count": 12,
   "metadata": {
    "execution": {
     "iopub.execute_input": "2024-08-11T16:04:22.711899Z",
     "iopub.status.busy": "2024-08-11T16:04:22.711513Z",
     "iopub.status.idle": "2024-08-11T16:04:24.369967Z",
     "shell.execute_reply": "2024-08-11T16:04:24.369126Z",
     "shell.execute_reply.started": "2024-08-11T16:04:22.711860Z"
    },
    "id": "4exx0vZpoZDp",
    "outputId": "4fcef4de-8331-4731-b6af-be6b525e8351",
    "trusted": true
   },
   "outputs": [
    {
     "data": {
      "image/png": "[encoded data removed]",
      "text/plain": [
       "<Figure size 720x360 with 2 Axes>"
      ]
     },
     "metadata": {
      "needs_background": "light"
     },
     "output_type": "display_data"
    }
   ],
   "source": [
    "#Creating a Figure and Subplots\n",
    "fig, (ax1, ax2) = plt.subplots(1,2, figsize = (10,5))\n",
    "\n",
    "#Plotting Histograms\n",
    "ax1.hist(headlines_length, bins = 20)\n",
    "ax2.hist(text_length, bins = 20)\n",
    "\n",
    "#Setting Titles for Subplots\n",
    "ax1.title.set_text(\"Words in Headlines\")\n",
    "ax2.title.set_text(\"Words in Text\")\n",
    "\n",
    "#Displaying the Plot\n",
    "plt.show()"
   ]
  },
  {
   "cell_type": "markdown",
   "metadata": {
    "id": "5J6b2-BXoasR"
   },
   "source": [
    "# **Embedding Matrix**"
   ]
  },
  {
   "cell_type": "markdown",
   "metadata": {},
   "source": [
    "The code below sets up for using GloVe embeddings by specifying the embedding size (300 dimensions) and opening the GloVe embeddings file."
   ]
  },
  {
   "cell_type": "code",
   "execution_count": 13,
   "metadata": {
    "execution": {
     "iopub.execute_input": "2024-08-11T16:04:24.372172Z",
     "iopub.status.busy": "2024-08-11T16:04:24.371907Z",
     "iopub.status.idle": "2024-08-11T16:04:24.381414Z",
     "shell.execute_reply": "2024-08-11T16:04:24.380708Z",
     "shell.execute_reply.started": "2024-08-11T16:04:24.372147Z"
    },
    "id": "7vLovzKr0m5S",
    "trusted": true
   },
   "outputs": [],
   "source": [
    "#Setting the Embedding Size\n",
    "glove_size = 300\n",
    "\n",
    "#Opening the GloVe Embeddings File\n",
    "f = open('../input/glove42b300dtxt/glove.42B.300d.txt')"
   ]
  },
  {
   "cell_type": "markdown",
   "metadata": {},
   "source": [
    "The code snippet below reads the pre-trained GloVe word embeddings from a file and stores them in a dictionary called embeddings_index. Each word in the dictionary is associated with its corresponding 300-dimensional word vector"
   ]
  },
  {
   "cell_type": "code",
   "execution_count": 14,
   "metadata": {
    "execution": {
     "iopub.execute_input": "2024-08-11T16:04:24.383078Z",
     "iopub.status.busy": "2024-08-11T16:04:24.382676Z",
     "iopub.status.idle": "2024-08-11T16:08:27.594489Z",
     "shell.execute_reply": "2024-08-11T16:08:27.593634Z",
     "shell.execute_reply.started": "2024-08-11T16:04:24.383041Z"
    },
    "id": "KulasZGc0nDp",
    "trusted": true
   },
   "outputs": [],
   "source": [
    "#Creating an Empty Dictionary for Embeddings\n",
    "embeddings_index = dict()\n",
    "\n",
    "#Iterating Over Each Line in the File\n",
    "for line in f:\n",
    "    \n",
    "    #Processing Each Line\n",
    "    values = line.split()\n",
    "    \n",
    "    #Storing the Word and Its Embedding in the Dictionary\n",
    "    embeddings_index[values[0]] = np.asarray(values[1:], dtype='float32')\n",
    "    \n",
    "#Closing the File\n",
    "f.close()"
   ]
  },
  {
   "cell_type": "markdown",
   "metadata": {},
   "source": [
    "The code snippet processes the text data to:\n",
    "* Collect all words and unique words in the corpus.\n",
    "* Compare the unique words with the GloVe vocabulary to determine how many words have corresponding GloVe vectors.\n",
    "* Create a dictionary of word vectors for the words in the corpus that have corresponding GloVe vectors."
   ]
  },
  {
   "cell_type": "code",
   "execution_count": 15,
   "metadata": {
    "execution": {
     "iopub.execute_input": "2024-08-11T16:08:27.596011Z",
     "iopub.status.busy": "2024-08-11T16:08:27.595699Z",
     "iopub.status.idle": "2024-08-11T16:08:28.971438Z",
     "shell.execute_reply": "2024-08-11T16:08:28.970558Z",
     "shell.execute_reply.started": "2024-08-11T16:08:27.595982Z"
    },
    "id": "7JA07ZzL0nhw",
    "outputId": "5535e162-8446-4832-a2e9-82c5eb2dd588",
    "trusted": true
   },
   "outputs": [
    {
     "name": "stdout",
     "output_type": "stream",
     "text": [
      "all the words in the corpus 3664472\n",
      "the unique words in the corpus 89937\n",
      "The number of words that are present in both glove vectors and our corpus are 70870 which is nearly 79.0% \n",
      "word 2 vec length 70870\n"
     ]
    }
   ],
   "source": [
    "#Collecting All Words in the Corpus\n",
    "words_source_train = []\n",
    "for i in data['text'] :\n",
    "  words_source_train.extend(i.split(' '))\n",
    "\n",
    "#Printing the Total Number of Words in the Corpus\n",
    "print(\"all the words in the corpus\", len(words_source_train))\n",
    "\n",
    "#Identifying Unique Words in the Corpus\n",
    "words_source_train = set(words_source_train)\n",
    "print(\"the unique words in the corpus\", len(words_source_train))\n",
    "\n",
    "#Finding Intersection with GloVe Vocabulary\n",
    "inter_words = set(embeddings_index.keys()).intersection(words_source_train)\n",
    "print(\"The number of words that are present in both glove vectors and our corpus are {} which \\\n",
    "is nearly {}% \".format(len(inter_words), np.round((float(len(inter_words))/len(words_source_train))\n",
    "*100)))\n",
    "\n",
    "#Creating a Dictionary of Word Vectors for the Corpus\n",
    "words_corpus_source_train = {}\n",
    "words_glove = set(embeddings_index.keys())\n",
    "for i in words_source_train:\n",
    "  if i in words_glove:\n",
    "    words_corpus_source_train[i] = embeddings_index[i]\n",
    "print(\"word 2 vec length\", len(words_corpus_source_train))"
   ]
  },
  {
   "cell_type": "markdown",
   "metadata": {},
   "source": [
    "For the code cell below:\n",
    "* **Purpose**: This line of code identifies and prints a sample of words from the corpus that do not have corresponding GloVe vectors. This can help us understand which words in our corpus are missing from the pre-trained embeddings and may need to be handled separately (e.g., by using random vectors, learning embeddings from scratch, or ignoring them).\n",
    "* **Use Case**: This is useful for diagnosing coverage issues with the embeddings and understanding the extent to which our corpus differs from the vocabulary covered by the GloVe embeddings."
   ]
  },
  {
   "cell_type": "code",
   "execution_count": 16,
   "metadata": {
    "execution": {
     "iopub.execute_input": "2024-08-11T16:08:28.972764Z",
     "iopub.status.busy": "2024-08-11T16:08:28.972481Z",
     "iopub.status.idle": "2024-08-11T16:08:28.982327Z",
     "shell.execute_reply": "2024-08-11T16:08:28.981525Z",
     "shell.execute_reply.started": "2024-08-11T16:08:28.972735Z"
    },
    "trusted": true
   },
   "outputs": [
    {
     "name": "stdout",
     "output_type": "stream",
     "text": [
      "['', 'dainotti', 'kichad', 'meetpal', 'basisnot', 'itsjustajacket', 'compromisedimpartiality', 'withinif', 'godno', 'khangarot', 'gulabnabi', '4daystest', 'imppa', 'vrajlal', 'owlers', 'sharvi', 'ganeshotav', 'buttlers', 'saena', 'zappfresh']\n"
     ]
    }
   ],
   "source": [
    "#Finding and Printing Words Not in GloVe\n",
    "print(list(words_source_train - inter_words)[:20])"
   ]
  },
  {
   "cell_type": "markdown",
   "metadata": {},
   "source": [
    "The code defines a function to count words in each text entry of a DataFrame that are not present in a predefined set of words with GloVe vectors. This count is then added as a new column in the DataFrame, allowing for analysis of the extent to which words in the text are missing from the GloVe embeddings. "
   ]
  },
  {
   "cell_type": "code",
   "execution_count": 17,
   "metadata": {
    "execution": {
     "iopub.execute_input": "2024-08-11T16:08:28.983717Z",
     "iopub.status.busy": "2024-08-11T16:08:28.983430Z",
     "iopub.status.idle": "2024-08-11T16:08:29.780005Z",
     "shell.execute_reply": "2024-08-11T16:08:29.778555Z",
     "shell.execute_reply.started": "2024-08-11T16:08:28.983657Z"
    },
    "id": "hT_Ak7qtkv2_",
    "trusted": true
   },
   "outputs": [],
   "source": [
    "#Defining the Function num\n",
    "def num(text):\n",
    "  words = [w for w in text.split() if not w in inter_words]\n",
    "  return len(words)\n",
    "\n",
    "#Applying the Function to the DataFrame\n",
    "data['unique_words'] = data['text'].apply(num)"
   ]
  },
  {
   "cell_type": "markdown",
   "metadata": {},
   "source": [
    "The **value_counts**() method on the 'unique_words' column provides a count of how many entries have each unique number of words that are missing from the GloVe embeddings."
   ]
  },
  {
   "cell_type": "code",
   "execution_count": 18,
   "metadata": {
    "execution": {
     "iopub.execute_input": "2024-08-11T16:08:29.782053Z",
     "iopub.status.busy": "2024-08-11T16:08:29.781622Z",
     "iopub.status.idle": "2024-08-11T16:08:29.926446Z",
     "shell.execute_reply": "2024-08-11T16:08:29.925659Z",
     "shell.execute_reply.started": "2024-08-11T16:08:29.782009Z"
    },
    "trusted": true
   },
   "outputs": [
    {
     "data": {
      "text/plain": [
       "0    73902\n",
       "1    15827\n",
       "2     5772\n",
       "3     1973\n",
       "4      559\n",
       "5      173\n",
       "6       59\n",
       "7       11\n",
       "8        4\n",
       "Name: unique_words, dtype: int64"
      ]
     },
     "execution_count": 18,
     "metadata": {},
     "output_type": "execute_result"
    }
   ],
   "source": [
    "data['unique_words'].value_counts()"
   ]
  },
  {
   "cell_type": "markdown",
   "metadata": {},
   "source": [
    "The code snippet filters the DataFrame data to retain only those rows where the number of unique words not present in GloVe embeddings is less than 4. It then resets the index of the DataFrame to ensure that it is sequential and free from gaps."
   ]
  },
  {
   "cell_type": "code",
   "execution_count": 19,
   "metadata": {
    "execution": {
     "iopub.execute_input": "2024-08-11T16:08:29.928268Z",
     "iopub.status.busy": "2024-08-11T16:08:29.927925Z",
     "iopub.status.idle": "2024-08-11T16:08:30.028745Z",
     "shell.execute_reply": "2024-08-11T16:08:30.028042Z",
     "shell.execute_reply.started": "2024-08-11T16:08:29.928238Z"
    },
    "id": "N4RZLvQ00zBN",
    "trusted": true
   },
   "outputs": [],
   "source": [
    "#Filtering Rows\n",
    "data = data[data['unique_words'] < 4]\n",
    "\n",
    "#Resetting the Index\n",
    "data.reset_index(inplace=True, drop=True)"
   ]
  },
  {
   "cell_type": "code",
   "execution_count": 20,
   "metadata": {
    "execution": {
     "iopub.execute_input": "2024-08-11T16:08:30.030386Z",
     "iopub.status.busy": "2024-08-11T16:08:30.030034Z",
     "iopub.status.idle": "2024-08-11T16:08:30.044349Z",
     "shell.execute_reply": "2024-08-11T16:08:30.043522Z",
     "shell.execute_reply.started": "2024-08-11T16:08:30.030349Z"
    },
    "id": "uF08PoBm1N78",
    "outputId": "b54f44b1-d68b-428c-d37d-37f691f00573",
    "trusted": true
   },
   "outputs": [
    {
     "data": {
      "text/html": [
       "<div>\n",
       "<style scoped>\n",
       "    .dataframe tbody tr th:only-of-type {\n",
       "        vertical-align: middle;\n",
       "    }\n",
       "\n",
       "    .dataframe tbody tr th {\n",
       "        vertical-align: top;\n",
       "    }\n",
       "\n",
       "    .dataframe thead th {\n",
       "        text-align: right;\n",
       "    }\n",
       "</style>\n",
       "<table border=\"1\" class=\"dataframe\">\n",
       "  <thead>\n",
       "    <tr style=\"text-align: right;\">\n",
       "      <th></th>\n",
       "      <th>headlines</th>\n",
       "      <th>text</th>\n",
       "      <th>unique_words</th>\n",
       "    </tr>\n",
       "  </thead>\n",
       "  <tbody>\n",
       "    <tr>\n",
       "      <th>0</th>\n",
       "      <td>_START_ upgrad learner switches career ml al 9...</td>\n",
       "      <td>saurav kant alumnus upgrad iiit b pg program m...</td>\n",
       "      <td>0</td>\n",
       "    </tr>\n",
       "    <tr>\n",
       "      <th>1</th>\n",
       "      <td>_START_ delhi techie wins free food swiggy one...</td>\n",
       "      <td>kunal shah credit card bill payment platform c...</td>\n",
       "      <td>2</td>\n",
       "    </tr>\n",
       "    <tr>\n",
       "      <th>2</th>\n",
       "      <td>_START_ new zealand end rohit sharma led india...</td>\n",
       "      <td>new zealand defeated india 8 wickets fourth od...</td>\n",
       "      <td>0</td>\n",
       "    </tr>\n",
       "    <tr>\n",
       "      <th>3</th>\n",
       "      <td>_START_ aegon life iterm insurance plan helps ...</td>\n",
       "      <td>aegon life iterm insurance plan customers enjo...</td>\n",
       "      <td>0</td>\n",
       "    </tr>\n",
       "    <tr>\n",
       "      <th>4</th>\n",
       "      <td>_START_ known hirani yrs metoo claims true son...</td>\n",
       "      <td>speaking sexual harassment allegations rajkuma...</td>\n",
       "      <td>0</td>\n",
       "    </tr>\n",
       "    <tr>\n",
       "      <th>...</th>\n",
       "      <td>...</td>\n",
       "      <td>...</td>\n",
       "      <td>...</td>\n",
       "    </tr>\n",
       "    <tr>\n",
       "      <th>97469</th>\n",
       "      <td>_START_ crpf jawan axed death maoists chhattis...</td>\n",
       "      <td>crpf jawan tuesday axed death sharp edged weap...</td>\n",
       "      <td>0</td>\n",
       "    </tr>\n",
       "    <tr>\n",
       "      <th>97470</th>\n",
       "      <td>_START_ first song sonakshi sinha noor titled ...</td>\n",
       "      <td>uff yeh first song sonakshi sinha starrer upc...</td>\n",
       "      <td>2</td>\n",
       "    </tr>\n",
       "    <tr>\n",
       "      <th>97471</th>\n",
       "      <td>_START_  the matrix film get reboot reports _END_</td>\n",
       "      <td>according reports new version 1999 science fic...</td>\n",
       "      <td>0</td>\n",
       "    </tr>\n",
       "    <tr>\n",
       "      <th>97472</th>\n",
       "      <td>_START_ snoop dogg aims gun clown dressed trum...</td>\n",
       "      <td>new music video shows rapper snoop dogg aiming...</td>\n",
       "      <td>0</td>\n",
       "    </tr>\n",
       "    <tr>\n",
       "      <th>97473</th>\n",
       "      <td>_START_ madhesi morcha withdraws support nepal...</td>\n",
       "      <td>madhesi morcha alliance seven political partie...</td>\n",
       "      <td>0</td>\n",
       "    </tr>\n",
       "  </tbody>\n",
       "</table>\n",
       "<p>97474 rows × 3 columns</p>\n",
       "</div>"
      ],
      "text/plain": [
       "                                               headlines  \\\n",
       "0      _START_ upgrad learner switches career ml al 9...   \n",
       "1      _START_ delhi techie wins free food swiggy one...   \n",
       "2      _START_ new zealand end rohit sharma led india...   \n",
       "3      _START_ aegon life iterm insurance plan helps ...   \n",
       "4      _START_ known hirani yrs metoo claims true son...   \n",
       "...                                                  ...   \n",
       "97469  _START_ crpf jawan axed death maoists chhattis...   \n",
       "97470  _START_ first song sonakshi sinha noor titled ...   \n",
       "97471  _START_  the matrix film get reboot reports _END_   \n",
       "97472  _START_ snoop dogg aims gun clown dressed trum...   \n",
       "97473  _START_ madhesi morcha withdraws support nepal...   \n",
       "\n",
       "                                                    text  unique_words  \n",
       "0      saurav kant alumnus upgrad iiit b pg program m...             0  \n",
       "1      kunal shah credit card bill payment platform c...             2  \n",
       "2      new zealand defeated india 8 wickets fourth od...             0  \n",
       "3      aegon life iterm insurance plan customers enjo...             0  \n",
       "4      speaking sexual harassment allegations rajkuma...             0  \n",
       "...                                                  ...           ...  \n",
       "97469  crpf jawan tuesday axed death sharp edged weap...             0  \n",
       "97470   uff yeh first song sonakshi sinha starrer upc...             2  \n",
       "97471  according reports new version 1999 science fic...             0  \n",
       "97472  new music video shows rapper snoop dogg aiming...             0  \n",
       "97473  madhesi morcha alliance seven political partie...             0  \n",
       "\n",
       "[97474 rows x 3 columns]"
      ]
     },
     "execution_count": 20,
     "metadata": {},
     "output_type": "execute_result"
    }
   ],
   "source": [
    "data"
   ]
  },
  {
   "cell_type": "markdown",
   "metadata": {},
   "source": [
    "# **Train Test Split**"
   ]
  },
  {
   "cell_type": "markdown",
   "metadata": {},
   "source": [
    "The code performs two sequential splits on the dataset to create three subsets:\n",
    "* **Training Set (X_train, y_train)**: 80% of the data used to train the model.\n",
    "* **Validation Set (X_val, y_val)**: 10% of the data used to tune model parameters and avoid overfitting.\n",
    "* **Test Set (X_test, y_test)**: 10% of the data used to evaluate the final model's performance."
   ]
  },
  {
   "cell_type": "code",
   "execution_count": 21,
   "metadata": {
    "execution": {
     "iopub.execute_input": "2024-08-11T16:08:30.045635Z",
     "iopub.status.busy": "2024-08-11T16:08:30.045360Z",
     "iopub.status.idle": "2024-08-11T16:08:30.072708Z",
     "shell.execute_reply": "2024-08-11T16:08:30.071917Z",
     "shell.execute_reply.started": "2024-08-11T16:08:30.045608Z"
    },
    "id": "5JaGAWYn7kqR",
    "trusted": true
   },
   "outputs": [],
   "source": [
    "from sklearn.model_selection import train_test_split\n",
    "\n",
    "#First Split: Train and Validation Sets\n",
    "X_train, X_val, y_train, y_val = train_test_split(data['text'], data['headlines'], test_size = 0.2, random_state = 20)\n",
    "\n",
    "#Second Split: Validation and Test Sets\n",
    "X_test, X_val, y_test, y_val = train_test_split(X_val, y_val, test_size = 0.5, random_state = 20)"
   ]
  },
  {
   "cell_type": "markdown",
   "metadata": {},
   "source": [
    "The lines of code in the cell below calculate and store the lengths of the longest text and headline in the dataset. The maximum lengths are essential for preparing the data for machine learning models, ensuring that all sequences are of a consistent size by padding or truncating them accordingly."
   ]
  },
  {
   "cell_type": "code",
   "execution_count": 22,
   "metadata": {
    "execution": {
     "iopub.execute_input": "2024-08-11T16:08:30.074102Z",
     "iopub.status.busy": "2024-08-11T16:08:30.073798Z",
     "iopub.status.idle": "2024-08-11T16:08:30.081285Z",
     "shell.execute_reply": "2024-08-11T16:08:30.080434Z",
     "shell.execute_reply.started": "2024-08-11T16:08:30.074074Z"
    },
    "id": "zhoRlF5L_qwa",
    "trusted": true
   },
   "outputs": [],
   "source": [
    "max_length_x = max(text_length)\n",
    "max_length_y = max(headlines_length)"
   ]
  },
  {
   "cell_type": "markdown",
   "metadata": {},
   "source": [
    "The process in the cell below transforms raw text data into a format that can be used by machine learning models, ensuring that all input sequences have a consistent size and are represented as integer indices.\n",
    "* **Tokenizer Initialization and Fitting**: The Tokenizer is used to create a vocabulary from all the texts and headlines, mapping each word to a unique integer.\n",
    "* **Vocabulary Size**: The vocabulary size is determined and adjusted to include an index for padding.\n",
    "* **Text to Sequences**: Texts are converted to sequences of integers based on the vocabulary.\n",
    "* **Padding Sequences**: Sequences are padded to ensure they all have the same length, making them suitable for input into neural network models."
   ]
  },
  {
   "cell_type": "code",
   "execution_count": 23,
   "metadata": {
    "execution": {
     "iopub.execute_input": "2024-08-11T16:08:30.082577Z",
     "iopub.status.busy": "2024-08-11T16:08:30.082320Z",
     "iopub.status.idle": "2024-08-11T16:08:40.225964Z",
     "shell.execute_reply": "2024-08-11T16:08:40.225013Z",
     "shell.execute_reply.started": "2024-08-11T16:08:30.082553Z"
    },
    "id": "QXQdLrLK0l5B",
    "trusted": true
   },
   "outputs": [],
   "source": [
    "#Creating and Fitting the Tokenizer\n",
    "x_t = Tokenizer()\n",
    "x_t.fit_on_texts(data['text'] + data['headlines'])\n",
    "\n",
    "#Getting Vocabulary Size\n",
    "x_vocab_size = len(x_t.word_index) + 1\n",
    "\n",
    "#Encoding Texts into Sequences\n",
    "encoded_xtrain = x_t.texts_to_sequences(X_train)\n",
    "encoded_xval = x_t.texts_to_sequences(X_val)\n",
    "encoded_xtest = x_t.texts_to_sequences(X_test)\n",
    "\n",
    "#Padding Sequences\n",
    "padded_xtrain = pad_sequences(encoded_xtrain, maxlen=max_length_x, padding='post')\n",
    "padded_xval = pad_sequences(encoded_xval, maxlen=max_length_x, padding='post')\n",
    "padded_xtest = pad_sequences(encoded_xtest, maxlen=max_length_x, padding='post')"
   ]
  },
  {
   "cell_type": "code",
   "execution_count": 24,
   "metadata": {
    "execution": {
     "iopub.execute_input": "2024-08-11T16:08:40.227532Z",
     "iopub.status.busy": "2024-08-11T16:08:40.227235Z",
     "iopub.status.idle": "2024-08-11T16:08:44.406196Z",
     "shell.execute_reply": "2024-08-11T16:08:44.405161Z",
     "shell.execute_reply.started": "2024-08-11T16:08:40.227501Z"
    },
    "id": "n7SVsptTNPtP",
    "trusted": true
   },
   "outputs": [],
   "source": [
    "#Creating and Fitting the Tokenizer\n",
    "y_t = Tokenizer()\n",
    "y_t.fit_on_texts(data['headlines'])\n",
    "\n",
    "#Getting Vocabulary Size\n",
    "y_vocab_size = len(y_t.word_index) + 1\n",
    "\n",
    "#Encoding Texts into Sequences\n",
    "encoded_ytrain = y_t.texts_to_sequences(y_train)\n",
    "encoded_yval = y_t.texts_to_sequences(y_val)\n",
    "encoded_ytest = y_t.texts_to_sequences(y_test)\n",
    "\n",
    "#Padding Sequences\n",
    "padded_ytrain = pad_sequences(encoded_ytrain, maxlen=max_length_y, padding='post')\n",
    "padded_yval = pad_sequences(encoded_yval, maxlen=max_length_y, padding='post')\n",
    "padded_ytest = pad_sequences(encoded_ytest, maxlen=max_length_y, padding='post')"
   ]
  },
  {
   "cell_type": "markdown",
   "metadata": {},
   "source": [
    "The embedding matrix will be used in our model to provide pre-trained word vectors as input, improving the model's ability to understand and process text based on GloVe's semantic embeddings.\n",
    "* **Loaded Word Vectors**: The number of word vectors loaded from GloVe is printed to verify successful loading.\n",
    "* **Embedding Matrix Initialization**: A matrix is created to hold the word embeddings for the vocabulary. This matrix will be used in the model to represent words with their GloVe vectors.\n",
    "* **Matrix Population**: The embedding matrix is populated with GloVe vectors for words that exist in the vocabulary. Words not found in GloVe remain as zeros, which are usually handled by the model during training."
   ]
  },
  {
   "cell_type": "code",
   "execution_count": 25,
   "metadata": {
    "execution": {
     "iopub.execute_input": "2024-08-11T16:08:44.407745Z",
     "iopub.status.busy": "2024-08-11T16:08:44.407450Z",
     "iopub.status.idle": "2024-08-11T16:08:44.719497Z",
     "shell.execute_reply": "2024-08-11T16:08:44.718547Z",
     "shell.execute_reply.started": "2024-08-11T16:08:44.407715Z"
    },
    "id": "rM-974HV0nKo",
    "outputId": "6aa27890-eaf7-4e0f-e594-8057efa18be6",
    "trusted": true
   },
   "outputs": [
    {
     "name": "stdout",
     "output_type": "stream",
     "text": [
      "Loaded 1917494 word vectors.\n"
     ]
    }
   ],
   "source": [
    "#Printing the Count of Loaded Vectors\n",
    "print('Loaded %s word vectors.' % len(embeddings_index))\n",
    "\n",
    "#Initializing the Embedding Matrix\n",
    "embedding_matrix = np.zeros((x_vocab_size, glove_size))\n",
    "\n",
    "#Populating the Embedding Matrix\n",
    "for word, i in x_t.word_index.items():\n",
    "    embedding_vector = embeddings_index.get(word)\n",
    "    if embedding_vector is not None:\n",
    "        embedding_matrix[i] = embedding_vector"
   ]
  },
  {
   "cell_type": "markdown",
   "metadata": {
    "id": "99aPNL7dqnfh"
   },
   "source": [
    "# **Model Creation**"
   ]
  },
  {
   "cell_type": "markdown",
   "metadata": {},
   "source": [
    "The AttentionLayer implements a custom attention mechanism using a specific architecture:\n",
    "* **Weights**: W_a, U_a, and V_a are used for computing attention scores.\n",
    "* **Attention Computation**: The energy_step function calculates attention scores, and the context_step function computes the context vectors.\n",
    "* **Initial States**: Dummy initial states are created for the RNN computations.\n",
    "* **RNN Operations**: The attention mechanism is applied using K.rnn to calculate attention scores and context vectors.\n",
    "* **Output Shapes**: The output shapes are defined for the context vectors and attention scores."
   ]
  },
  {
   "cell_type": "code",
   "execution_count": 26,
   "metadata": {
    "execution": {
     "iopub.execute_input": "2024-08-11T16:08:44.721325Z",
     "iopub.status.busy": "2024-08-11T16:08:44.720943Z",
     "iopub.status.idle": "2024-08-11T16:08:44.739671Z",
     "shell.execute_reply": "2024-08-11T16:08:44.738731Z",
     "shell.execute_reply.started": "2024-08-11T16:08:44.721284Z"
    },
    "id": "GWuQ1AG8OdVL",
    "trusted": true
   },
   "outputs": [],
   "source": [
    "class AttentionLayer(Layer):\n",
    "\n",
    "    def __init__(self, **kwargs):\n",
    "        super(AttentionLayer, self).__init__(**kwargs)\n",
    "\n",
    "    def build(self, input_shape):\n",
    "\n",
    "        self.W_a = self.add_weight(name='W_a',\n",
    "                                   shape=tf.TensorShape((input_shape[0][2], input_shape[0][2])),\n",
    "                                   initializer='uniform',\n",
    "                                   trainable=True)\n",
    "        self.U_a = self.add_weight(name='U_a',\n",
    "                                   shape=tf.TensorShape((input_shape[1][2], input_shape[0][2])),\n",
    "                                   initializer='uniform',\n",
    "                                   trainable=True)\n",
    "        self.V_a = self.add_weight(name='V_a',\n",
    "                                   shape=tf.TensorShape((input_shape[0][2], 1)),\n",
    "                                   initializer='uniform',\n",
    "                                   trainable=True)\n",
    "\n",
    "        super(AttentionLayer, self).build(input_shape)\n",
    "\n",
    "    def call(self, inputs):\n",
    "        encoder_out_seq, decoder_out_seq = inputs\n",
    "\n",
    "        def energy_step(inputs, states):\n",
    "          \n",
    "            en_seq_len, en_hidden = encoder_out_seq.shape[1], encoder_out_seq.shape[2]\n",
    "            de_hidden = inputs.shape[-1]\n",
    "\n",
    "            reshaped_enc_outputs = K.reshape(encoder_out_seq, (-1, en_hidden))\n",
    "            W_a_dot_s = K.reshape(K.dot(reshaped_enc_outputs, self.W_a), (-1, en_seq_len, en_hidden))\n",
    "            U_a_dot_h = K.expand_dims(K.dot(inputs, self.U_a), 1)  \n",
    "            \n",
    "            reshaped_Ws_plus_Uh = K.tanh(K.reshape(W_a_dot_s + U_a_dot_h, (-1, en_hidden)))\n",
    "            e_i = K.reshape(K.dot(reshaped_Ws_plus_Uh, self.V_a), (-1, en_seq_len))\n",
    "            e_i = K.softmax(e_i)\n",
    "\n",
    "            return e_i, [e_i]\n",
    "\n",
    "        def context_step(inputs, states):\n",
    "            c_i = K.sum(encoder_out_seq * K.expand_dims(inputs, -1), axis=1)\n",
    "            return c_i, [c_i]\n",
    "\n",
    "        def create_inital_state(inputs, hidden_size):\n",
    "            \n",
    "            fake_state = K.zeros_like(inputs)  \n",
    "            fake_state = K.sum(fake_state, axis=[1, 2])  \n",
    "            fake_state = K.expand_dims(fake_state)  \n",
    "            fake_state = K.tile(fake_state, [1, hidden_size])  \n",
    "            return fake_state\n",
    "\n",
    "        fake_state_c = create_inital_state(encoder_out_seq, encoder_out_seq.shape[-1])\n",
    "        fake_state_e = create_inital_state(encoder_out_seq, encoder_out_seq.shape[1])  \n",
    "\n",
    "        last_out, e_outputs, _ = K.rnn(\n",
    "            energy_step, decoder_out_seq, [fake_state_e],\n",
    "        )\n",
    "\n",
    "        last_out, c_outputs, _ = K.rnn(\n",
    "            context_step, e_outputs, [fake_state_c],\n",
    "        )\n",
    "        return c_outputs, e_outputs\n",
    "\n",
    "    def compute_output_shape(self, input_shape):\n",
    "        return [\n",
    "            tf.TensorShape((input_shape[1][0], input_shape[1][1], input_shape[1][2])),\n",
    "            tf.TensorShape((input_shape[1][0], input_shape[1][1], input_shape[0][1]))\n",
    "        ]\n"
   ]
  },
  {
   "cell_type": "markdown",
   "metadata": {},
   "source": [
    "The code constructs a sequence-to-sequence model with an attention mechanism:\n",
    "* **Encoder**: Uses a stack of LSTM layers to process the input sequence.\n",
    "* **Decoder**: Uses an LSTM layer initialized with the encoder's final states to generate output sequences.\n",
    "* **Attention Mechanism**: Enhances the decoder by focusing on relevant parts of the encoder's output.\n",
    "* **Final Layer**: Applies a dense layer to predict the next token in the sequence at each time step."
   ]
  },
  {
   "cell_type": "code",
   "execution_count": 27,
   "metadata": {
    "execution": {
     "iopub.execute_input": "2024-08-11T16:08:44.742989Z",
     "iopub.status.busy": "2024-08-11T16:08:44.742677Z",
     "iopub.status.idle": "2024-08-11T16:08:49.619986Z",
     "shell.execute_reply": "2024-08-11T16:08:49.619047Z",
     "shell.execute_reply.started": "2024-08-11T16:08:44.742959Z"
    },
    "id": "wTukjl0hpPgo",
    "outputId": "6035a9eb-baac-43ff-a123-74e1ae1f02b7",
    "trusted": true
   },
   "outputs": [
    {
     "name": "stdout",
     "output_type": "stream",
     "text": [
      "Model: \"model\"\n",
      "__________________________________________________________________________________________________\n",
      "Layer (type)                    Output Shape         Param #     Connected to                     \n",
      "==================================================================================================\n",
      "input_1 (InputLayer)            [(None, 57)]         0                                            \n",
      "__________________________________________________________________________________________________\n",
      "embedding (Embedding)           (None, 57, 300)      27025200    input_1[0][0]                    \n",
      "__________________________________________________________________________________________________\n",
      "lstm (LSTM)                     [(None, 57, 500), (N 1602000     embedding[0][0]                  \n",
      "__________________________________________________________________________________________________\n",
      "input_2 (InputLayer)            [(None, None)]       0                                            \n",
      "__________________________________________________________________________________________________\n",
      "lstm_1 (LSTM)                   [(None, 57, 500), (N 2002000     lstm[0][0]                       \n",
      "__________________________________________________________________________________________________\n",
      "embedding_1 (Embedding)         (None, None, 300)    27025200    input_2[0][0]                    \n",
      "__________________________________________________________________________________________________\n",
      "lstm_2 (LSTM)                   [(None, 57, 500), (N 2002000     lstm_1[0][0]                     \n",
      "__________________________________________________________________________________________________\n",
      "lstm_3 (LSTM)                   [(None, None, 500),  1602000     embedding_1[0][0]                \n",
      "                                                                 lstm_2[0][1]                     \n",
      "                                                                 lstm_2[0][2]                     \n",
      "__________________________________________________________________________________________________\n",
      "attention_layer (AttentionLayer ((None, None, 500),  500500      lstm_2[0][0]                     \n",
      "                                                                 lstm_3[0][0]                     \n",
      "__________________________________________________________________________________________________\n",
      "concat_layer (Concatenate)      (None, None, 1000)   0           lstm_3[0][0]                     \n",
      "                                                                 attention_layer[0][0]            \n",
      "__________________________________________________________________________________________________\n",
      "time_distributed (TimeDistribut (None, None, 34797)  34831797    concat_layer[0][0]               \n",
      "==================================================================================================\n",
      "Total params: 96,590,697\n",
      "Trainable params: 42,540,297\n",
      "Non-trainable params: 54,050,400\n",
      "__________________________________________________________________________________________________\n",
      "None\n"
     ]
    }
   ],
   "source": [
    "latent_dim=500\n",
    "\n",
    "K.clear_session() \n",
    "\n",
    "encoder_inputs = Input(shape=(max_length_x,)) \n",
    "enc_emb = Embedding(x_vocab_size, glove_size, weights=[embedding_matrix],input_length=max_length_x, trainable=False)(encoder_inputs) \n",
    "\n",
    "#LSTM \n",
    "encoder_lstm1 = LSTM(latent_dim,return_sequences=True,return_state=True) \n",
    "encoder_output1, state_h1, state_c1 = encoder_lstm1(enc_emb) \n",
    "encoder_lstm2 = LSTM(latent_dim,return_sequences=True,return_state=True) \n",
    "encoder_output2, state_h2, state_c2 = encoder_lstm2(encoder_output1) \n",
    "encoder_lstm3 = LSTM(latent_dim, return_state=True, return_sequences=True) \n",
    "encoder_outputs, state_h, state_c= encoder_lstm3(encoder_output2) \n",
    "\n",
    "# Decoder. \n",
    "decoder_inputs = Input(shape=(None,)) \n",
    "dec_emb_layer = Embedding(x_vocab_size, glove_size, weights=[embedding_matrix],input_length=max_length_x, trainable=False) \n",
    "dec_emb = dec_emb_layer(decoder_inputs) \n",
    "\n",
    "#LSTM using encoder_states as initial state\n",
    "decoder_lstm = LSTM(latent_dim, return_sequences=True, return_state=True) \n",
    "decoder_outputs,decoder_fwd_state, decoder_back_state = decoder_lstm(dec_emb,initial_state=[state_h, state_c]) \n",
    "\n",
    "#Attention Layer\n",
    "attn_layer = AttentionLayer(name='attention_layer') \n",
    "attn_out, attn_states = attn_layer([encoder_outputs, decoder_outputs]) \n",
    "\n",
    "decoder_concat_input = Concatenate(axis=-1, name='concat_layer')([decoder_outputs, attn_out])\n",
    "decoder_dense = TimeDistributed(Dense(y_vocab_size, activation='softmax')) \n",
    "decoder_outputs = decoder_dense(decoder_concat_input) \n",
    "\n",
    "model = Model([encoder_inputs, decoder_inputs], decoder_outputs) \n",
    "print(model.summary())"
   ]
  },
  {
   "cell_type": "markdown",
   "metadata": {},
   "source": [
    "# **Training**"
   ]
  },
  {
   "cell_type": "markdown",
   "metadata": {},
   "source": [
    "The setup ensures efficient training by saving the best model and preventing overfitting through early stopping.\n",
    "* **Compiling**: Configures the model for training with the Adam optimizer and sparse categorical crossentropy loss.\n",
    "* **Callbacks**: Includes model checkpointing to save the best model and early stopping to halt training if validation loss does not improve.\n",
    "* **Training**: Trains the model for 10 epochs with a batch size of 512, using both training and validation data, and applying the specified callbacks."
   ]
  },
  {
   "cell_type": "code",
   "execution_count": 28,
   "metadata": {
    "execution": {
     "iopub.execute_input": "2024-08-11T16:08:49.621524Z",
     "iopub.status.busy": "2024-08-11T16:08:49.621235Z",
     "iopub.status.idle": "2024-08-11T16:26:34.054130Z",
     "shell.execute_reply": "2024-08-11T16:26:34.053304Z",
     "shell.execute_reply.started": "2024-08-11T16:08:49.621497Z"
    },
    "id": "4fUJoaFAiwUb",
    "outputId": "4bc22143-d3ed-4b87-e2e6-c44f3034a816",
    "trusted": true
   },
   "outputs": [
    {
     "name": "stdout",
     "output_type": "stream",
     "text": [
      "Epoch 1/10\n",
      "153/153 [==============================] - 118s 690ms/step - loss: 5.4743 - val_loss: 4.4699\n",
      "Epoch 2/10\n",
      "153/153 [==============================] - 104s 681ms/step - loss: 4.4097 - val_loss: 4.2363\n",
      "Epoch 3/10\n",
      "153/153 [==============================] - 104s 681ms/step - loss: 4.0204 - val_loss: 3.8174\n",
      "Epoch 4/10\n",
      "153/153 [==============================] - 104s 680ms/step - loss: 3.5541 - val_loss: 3.5855\n",
      "Epoch 5/10\n",
      "153/153 [==============================] - 104s 679ms/step - loss: 3.1652 - val_loss: 3.4143\n",
      "Epoch 6/10\n",
      "153/153 [==============================] - 104s 680ms/step - loss: 2.8113 - val_loss: 3.3238\n",
      "Epoch 7/10\n",
      "153/153 [==============================] - 104s 680ms/step - loss: 2.5028 - val_loss: 3.2647\n",
      "Epoch 8/10\n",
      "153/153 [==============================] - 104s 680ms/step - loss: 2.2461 - val_loss: 3.2349\n",
      "Epoch 9/10\n",
      "153/153 [==============================] - 104s 680ms/step - loss: 2.0423 - val_loss: 3.2209\n",
      "Epoch 10/10\n",
      "153/153 [==============================] - 104s 680ms/step - loss: 1.8596 - val_loss: 3.2097\n"
     ]
    }
   ],
   "source": [
    "#Model Compilation\n",
    "model.compile(optimizer='adam', loss='sparse_categorical_crossentropy')\n",
    "\n",
    "#Model Checkpoint\n",
    "checkpoint_filepath = './model.{epoch:02d}-{val_loss:.2f}.h5'\n",
    "model_checkpoint_callback = tf.keras.callbacks.ModelCheckpoint(filepath=checkpoint_filepath,save_weights_only=True,\n",
    "                                                               monitor='val_loss',\n",
    "                                                               mode='min',\n",
    "                                                               save_best_only=True, \n",
    "                                                               save_freq = \"epoch\")\n",
    "\n",
    "#Early Stopping\n",
    "es = EarlyStopping(monitor='val_loss', mode='min', verbose=1, patience=1)\n",
    "\n",
    "#Model Training\n",
    "history=model.fit([padded_xtrain,padded_ytrain[:,:-1]], padded_ytrain.reshape(padded_ytrain.shape[0],padded_ytrain.shape[1], 1)[:,1:] ,\n",
    "                  epochs=10,\n",
    "                  batch_size=512, \n",
    "                  validation_data=([padded_xval,padded_yval[:,:-1]], padded_yval.reshape(padded_yval.shape[0],padded_yval.shape[1], 1)[:,1:]), \n",
    "                  callbacks=[es, model_checkpoint_callback])"
   ]
  },
  {
   "cell_type": "code",
   "execution_count": 29,
   "metadata": {
    "execution": {
     "iopub.execute_input": "2024-08-11T16:26:38.555797Z",
     "iopub.status.busy": "2024-08-11T16:26:38.555428Z",
     "iopub.status.idle": "2024-08-11T16:26:39.222150Z",
     "shell.execute_reply": "2024-08-11T16:26:39.221210Z",
     "shell.execute_reply.started": "2024-08-11T16:26:38.555764Z"
    },
    "trusted": true
   },
   "outputs": [
    {
     "name": "stdout",
     "output_type": "stream",
     "text": [
      "Loaded weights from ./model.10-3.21.h5\n"
     ]
    }
   ],
   "source": [
    "def find_best_model_file(directory, pattern=\"model.*.h5\"):\n",
    "    files = os.listdir(directory)\n",
    "    best_loss = float('inf')\n",
    "    best_model_file = None\n",
    "    \n",
    "    for file in files:\n",
    "        match = re.search(r'(\\d+\\.\\d+)\\.h5$', file)\n",
    "        if match:\n",
    "            val_loss = float(match.group(1))\n",
    "            if val_loss < best_loss:\n",
    "                best_loss = val_loss\n",
    "                best_model_file = file\n",
    "    \n",
    "    return os.path.join(directory, best_model_file) if best_model_file else None\n",
    "\n",
    "# Load the best model weights\n",
    "best_model_filepath = find_best_model_file('./')\n",
    "if best_model_filepath:\n",
    "    model.load_weights(best_model_filepath)\n",
    "    print(f\"Loaded weights from {best_model_filepath}\")\n",
    "else:\n",
    "    print(\"No model file found.\")"
   ]
  },
  {
   "cell_type": "code",
   "execution_count": 30,
   "metadata": {
    "execution": {
     "iopub.execute_input": "2024-08-11T16:26:42.076255Z",
     "iopub.status.busy": "2024-08-11T16:26:42.075916Z",
     "iopub.status.idle": "2024-08-11T16:26:50.385882Z",
     "shell.execute_reply": "2024-08-11T16:26:50.384940Z",
     "shell.execute_reply.started": "2024-08-11T16:26:42.076227Z"
    },
    "trusted": true
   },
   "outputs": [
    {
     "name": "stdout",
     "output_type": "stream",
     "text": [
      "305/305 [==============================] - 8s 27ms/step - loss: 3.2097\n",
      "Validation loss after loading best weights: 3.2096872329711914\n"
     ]
    }
   ],
   "source": [
    "loss = model.evaluate([padded_xval, padded_yval[:, :-1]], padded_yval.reshape(padded_yval.shape[0], padded_yval.shape[1], 1)[:, 1:])\n",
    "print(f\"Validation loss after loading best weights: {loss}\")"
   ]
  },
  {
   "cell_type": "markdown",
   "metadata": {},
   "source": [
    "The snippet of code is used to load a previously saved model's weights and recompile it. \n",
    "* **Reconstructing the Model**: Recreates the model architecture to match the one used during training. This step is crucial because the model needs to have the same structure to correctly load the weights.\n",
    "* **Loading Weights**: Loads the weights from a specific file into the reconstructed model. This allows us to use the trained model’s parameters without retraining.\n",
    "* **Recompiling**: Sets up the model with the same optimizer and loss function used during training, preparing it for evaluation or further training."
   ]
  },
  {
   "cell_type": "code",
   "execution_count": 31,
   "metadata": {
    "execution": {
     "iopub.execute_input": "2024-08-11T16:27:26.260831Z",
     "iopub.status.busy": "2024-08-11T16:27:26.260485Z",
     "iopub.status.idle": "2024-08-11T16:27:26.926232Z",
     "shell.execute_reply": "2024-08-11T16:27:26.925299Z",
     "shell.execute_reply.started": "2024-08-11T16:27:26.260801Z"
    },
    "trusted": true
   },
   "outputs": [],
   "source": [
    "#Reconstructing the Model\n",
    "model = Model([encoder_inputs, decoder_inputs], decoder_outputs)\n",
    "\n",
    "#Loading Weights\n",
    "model.load_weights(\"./model.10-3.21.h5\")\n",
    "\n",
    "#Recompiling the Model\n",
    "model.compile(optimizer='adam', loss='sparse_categorical_crossentropy')"
   ]
  },
  {
   "cell_type": "markdown",
   "metadata": {
    "id": "0CULXhQiGpvO"
   },
   "source": [
    "This code creates a plot showing how the training and validation loss change over epochs. This visualization helps in understanding the model's performance during training:\n",
    "* **Training Loss (train)**: Indicates how well the model is fitting the training data.\n",
    "* **Validation Loss (test)**: Indicates how well the model is generalizing to unseen data."
   ]
  },
  {
   "cell_type": "code",
   "execution_count": 32,
   "metadata": {
    "execution": {
     "iopub.execute_input": "2024-08-11T16:27:30.797964Z",
     "iopub.status.busy": "2024-08-11T16:27:30.797604Z",
     "iopub.status.idle": "2024-08-11T16:27:30.944074Z",
     "shell.execute_reply": "2024-08-11T16:27:30.943197Z",
     "shell.execute_reply.started": "2024-08-11T16:27:30.797931Z"
    },
    "id": "JQf1v5WhqLLg",
    "outputId": "f5bfa510-79c7-465e-e371-ea5b36198da9",
    "trusted": true
   },
   "outputs": [
    {
     "data": {
      "image/png": "[encoded data removed]",
      "text/plain": [
       "<Figure size 432x288 with 1 Axes>"
      ]
     },
     "metadata": {
      "needs_background": "light"
     },
     "output_type": "display_data"
    }
   ],
   "source": [
    "from matplotlib import pyplot \n",
    "\n",
    "#Plotting Training and Validation Loss\n",
    "pyplot.plot(history.history['loss'], label='train') \n",
    "pyplot.plot(history.history['val_loss'], label='test') \n",
    "pyplot.legend() \n",
    "pyplot.show()"
   ]
  },
  {
   "cell_type": "markdown",
   "metadata": {
    "id": "PZ0W3VZorHVK"
   },
   "source": [
    "# **Inference**"
   ]
  },
  {
   "cell_type": "markdown",
   "metadata": {},
   "source": [
    "The mappings below are crucial for tasks such as converting model predictions back into readable words or for analyzing and interpreting the model’s output.\n",
    "* **reverse_target_word_index**: Maps indices to words for the target vocabulary.\n",
    "* **reverse_source_word_index**: Maps indices to words for the source vocabulary.\n",
    "* **target_word_index**: Maps words to indices for the target vocabulary."
   ]
  },
  {
   "cell_type": "code",
   "execution_count": 33,
   "metadata": {
    "execution": {
     "iopub.execute_input": "2024-08-11T16:27:30.945626Z",
     "iopub.status.busy": "2024-08-11T16:27:30.945370Z",
     "iopub.status.idle": "2024-08-11T16:27:30.949199Z",
     "shell.execute_reply": "2024-08-11T16:27:30.948452Z",
     "shell.execute_reply.started": "2024-08-11T16:27:30.945601Z"
    },
    "id": "UlSTzEbnskcd",
    "trusted": true
   },
   "outputs": [],
   "source": [
    "#Reverse Target Word Index\n",
    "reverse_target_word_index = y_t.index_word \n",
    "\n",
    "#Reverse Source Word Index\n",
    "reverse_source_word_index = x_t.index_word \n",
    "\n",
    "#Target Word Index\n",
    "target_word_index = y_t.word_index"
   ]
  },
  {
   "cell_type": "markdown",
   "metadata": {},
   "source": [
    "These models are used together for generating sequences during inference. The encoder processes the input sequence, and the decoder generates the output sequence step-by-step, using the attention mechanism to focus on relevant parts of the input sequence."
   ]
  },
  {
   "cell_type": "code",
   "execution_count": 34,
   "metadata": {
    "execution": {
     "iopub.execute_input": "2024-08-11T16:27:31.119261Z",
     "iopub.status.busy": "2024-08-11T16:27:31.118948Z",
     "iopub.status.idle": "2024-08-11T16:27:31.436992Z",
     "shell.execute_reply": "2024-08-11T16:27:31.436096Z",
     "shell.execute_reply.started": "2024-08-11T16:27:31.119230Z"
    },
    "id": "thX0Ep0Ssnd1",
    "trusted": true
   },
   "outputs": [],
   "source": [
    "#Encoder Model\n",
    "encoder_model = Model(inputs=encoder_inputs,outputs=[encoder_outputs, state_h, state_c])\n",
    "\n",
    "#Decoder Model\n",
    "#Defining Input Layers for Decoder\n",
    "decoder_state_input_h = Input(shape=(latent_dim,))\n",
    "decoder_state_input_c = Input(shape=(latent_dim,))\n",
    "decoder_hidden_state_input = Input(shape=(max_length_x,latent_dim))\n",
    "\n",
    "#Decoder Embedding and LSTM\n",
    "dec_emb2= dec_emb_layer(decoder_inputs)\n",
    "\n",
    "#Concatenate and Dense Layer\n",
    "decoder_outputs2, state_h2, state_c2 = decoder_lstm(dec_emb2, initial_state=[decoder_state_input_h, decoder_state_input_c])\n",
    "\n",
    "#Attention Mechanism\n",
    "attn_out_inf, attn_states_inf = attn_layer([decoder_hidden_state_input, decoder_outputs2])\n",
    "\n",
    "#Concatenate and Dense Layer\n",
    "decoder_inf_concat = Concatenate(axis=-1, name='concat')([decoder_outputs2, attn_out_inf])\n",
    "decoder_outputs2 = decoder_dense(decoder_inf_concat)\n",
    "\n",
    "#Define Decoder Model\n",
    "decoder_model = Model(\n",
    "[decoder_inputs] + [decoder_hidden_state_input,decoder_state_input_h, decoder_state_input_c],\n",
    "[decoder_outputs2] + [state_h2, state_c2])"
   ]
  },
  {
   "cell_type": "markdown",
   "metadata": {},
   "source": [
    "The function below is typically used for generating predictions\n",
    "* **Encoding**: The input sequence is processed by the encoder to obtain the encoder outputs and states.\n",
    "* **Decoding**: The decoder generates the sequence one token at a time using the attention mechanism and updated states.\n",
    "* **Termination**: The loop continues until an end token is generated or the sentence reaches the maximum length."
   ]
  },
  {
   "cell_type": "code",
   "execution_count": 35,
   "metadata": {
    "execution": {
     "iopub.execute_input": "2024-08-11T16:27:31.440627Z",
     "iopub.status.busy": "2024-08-11T16:27:31.440345Z",
     "iopub.status.idle": "2024-08-11T16:27:31.448146Z",
     "shell.execute_reply": "2024-08-11T16:27:31.447339Z",
     "shell.execute_reply.started": "2024-08-11T16:27:31.440598Z"
    },
    "id": "wtU0wU8gsuz1",
    "trusted": true
   },
   "outputs": [],
   "source": [
    "#Function Definition\n",
    "def decode_sequence(input_seq):\n",
    "    \n",
    "    #Preprocessing Input Sequence\n",
    "    input_seq= input_seq.reshape(1,max_length_x)\n",
    "    e_out, e_h, e_c = encoder_model.predict(input_seq)\n",
    "    \n",
    "    #Initialization\n",
    "    target_seq = np.zeros((1,1))\n",
    "    target_seq[0, 0] = target_word_index['start']\n",
    "\n",
    "    #Decoding Loop\n",
    "    stop_condition = False\n",
    "    decoded_sentence = ''\n",
    "    while not stop_condition:\n",
    "        output_tokens, h, c = decoder_model.predict([target_seq] + [e_out, e_h, e_c])\n",
    "\n",
    "        sampled_token_index = np.argmax(output_tokens[0, -1, :])\n",
    "        sampled_token = reverse_target_word_index[sampled_token_index]\n",
    "  \n",
    "        if(sampled_token!='end'):\n",
    "            decoded_sentence += ' '+sampled_token\n",
    " \n",
    "        if (sampled_token == 'end' or len(decoded_sentence.split()) >= (max_length_y-1)):\n",
    "                stop_condition = True\n",
    "\n",
    "        target_seq = np.zeros((1,1))\n",
    "        target_seq[0, 0] = sampled_token_index\n",
    "        e_h, e_c = h, c\n",
    "\n",
    "    #Return Decoded Sentence\n",
    "    return decoded_sentence"
   ]
  },
  {
   "cell_type": "markdown",
   "metadata": {},
   "source": [
    "Both functions below are useful for interpreting model outputs and inputs by translating numerical representations back into human-readable form.\n",
    "* **seq2summary**: Converts a target sequence from indices to a readable summary text, excluding special tokens like start and end tokens.\n",
    "* **seq2text**: Converts a source sequence from indices to a readable text, excluding padding tokens."
   ]
  },
  {
   "cell_type": "code",
   "execution_count": 36,
   "metadata": {
    "execution": {
     "iopub.execute_input": "2024-08-11T16:27:31.593327Z",
     "iopub.status.busy": "2024-08-11T16:27:31.593016Z",
     "iopub.status.idle": "2024-08-11T16:27:31.603312Z",
     "shell.execute_reply": "2024-08-11T16:27:31.602264Z",
     "shell.execute_reply.started": "2024-08-11T16:27:31.593300Z"
    },
    "id": "cLyRVENRs2Ay",
    "trusted": true
   },
   "outputs": [],
   "source": [
    "#Function: seq2summary\n",
    "def seq2summary(input_seq):\n",
    "    newString=''\n",
    "    for i in input_seq:\n",
    "      if((i!=0 and i!=target_word_index['start']) and i!=target_word_index['end']):\n",
    "        newString=newString+reverse_target_word_index[i]+' '\n",
    "    return newString\n",
    "\n",
    "#Function: seq2text\n",
    "def seq2text(input_seq):\n",
    "    newString=''\n",
    "    for i in input_seq:\n",
    "      if(i!=0):\n",
    "        newString=newString+reverse_source_word_index[i]+' '\n",
    "    return newString"
   ]
  },
  {
   "cell_type": "markdown",
   "metadata": {},
   "source": [
    "The code snippet below evaluates the performance of the sequence-to-sequence model by comparing the original summaries with the predicted summaries for a sample of test data"
   ]
  },
  {
   "cell_type": "code",
   "execution_count": 37,
   "metadata": {
    "execution": {
     "iopub.execute_input": "2024-08-11T16:27:31.926732Z",
     "iopub.status.busy": "2024-08-11T16:27:31.926403Z",
     "iopub.status.idle": "2024-08-11T16:27:38.240800Z",
     "shell.execute_reply": "2024-08-11T16:27:38.239895Z",
     "shell.execute_reply.started": "2024-08-11T16:27:31.926696Z"
    },
    "id": "bXrWSc9Es5Qr",
    "outputId": "08e094bf-5b7a-4d2d-9042-f01c9390c8df",
    "trusted": true
   },
   "outputs": [
    {
     "name": "stdout",
     "output_type": "stream",
     "text": [
      "Review: former lieutenant governor najeeb jung disapproved delhi government proposed premium bus scheme last year government monday announced plans app based bus service project least 1 000 buses run private operators service aims reduce use private vehicles state transport minister kailash gahlot said \n",
      "Original summary: delhi government plans app based bus service \n",
      "Predicted summary:  ex vacant prez proposes charge new york\n",
      "\n",
      "\n",
      "Review: slamming odisha bjd government suicide girl claimed raped four men uniform congress bjp called separate demonstrations state wide shutdown thursday elaborate safety arrangements made police schools colleges state remain shut safety students \n",
      "Original summary: cong bjp call odisha bandh rape victim suicide \n",
      "Predicted summary:  bjp mla booked rape victim pradesh police rape\n",
      "\n",
      "\n",
      "Review: former south african captain graeme smith former windies captain darren sammy accused australian coaches favouring australian players teams playing xi ipl despite poor form players questioned selection australians including rr d arcy short dd glenn maxwell kxip aaron finch notably rr srh dd kxip australian coaches \n",
      "Original summary: smith sammy accuse aus ipl coaches favouring aus players \n",
      "Predicted summary:  ex aus captain smith coaching cricket team\n",
      "\n",
      "\n",
      "Review: us intelligence agencies alerted indian counterpart threat lone wolf attack islamic state global entrepreneurship summit 2017 hyderabad summit attended us president donald trump daughter ivanka intelligence bureau telangana counter intelligence cell tightened security scrutinising 200 suspects terror links \n",
      "Original summary: us intel alerts lone wolf attack ges 2017 \n",
      "Predicted summary:  us embassy un chief global terrorist terror attack\n",
      "\n",
      "\n",
      "Review: video pakistani journalist sitting inflated pool flooded road lahore gone viral video begins close up reporter wherein says might seem swimming pool actually flooded road journalist asks people use technique enjoy \n",
      "Original summary: video pak journalist floating pool road goes viral \n",
      "Predicted summary:  video shows army officer guarding flood hit\n",
      "\n",
      "\n",
      "Review: india added 91 million new taxpayers financial year 2016 2017 due demonetisation high valued notes witnessing increase 80 annual average notably india 559 million individual taxpayers end 2015 2016 fiscal year reportedly india adds around six million taxpayers around one million stop paying taxes due death retirement every year \n",
      "Original summary: 80 increase new taxpayers 2016 2017 due note ban \n",
      "Predicted summary:  india gdp growth rate 75 lakh per month report\n",
      "\n",
      "\n",
      "Review: mumbai based venture capital fund unicorn india ventures invested undisclosed sums three kerala based startups said statement startups humanoid developer genrobotic innovations smart kitchen appliances maker sectorqube body scanning firm perfectfit fashion vc fund made investments across 10 startups since inception 2015 \n",
      "Original summary: unicorn india ventures backs three kerala based startups \n",
      "Predicted summary:  mumbai based lightbox startup funded raises 2 crore\n",
      "\n",
      "\n",
      "Review: actress priyanka chopra revealed five years old found asthma talking health problem tweeted i knew control asthma controlled me long got inhaler asthma cannot stop achieving goals \n",
      "Original summary: 5 found asthma priyanka chopra \n",
      "Predicted summary:  cancer kids life size cancer diagnosis\n",
      "\n",
      "\n",
      "Review: german police stated arrested russian football hooligan wanted attempted homicide england supporter euro 2016 fan violence police said detained wanted man arrival munich airport en route bilbao 31 year old travelling european league match \n",
      "Original summary: russian hooligan arrested homicide attempt euro 2016 \n",
      "Predicted summary:  russian man jailed knife attack football\n",
      "\n",
      "\n",
      "Review: haryana bjp state president subhash barala son friend arrested saturday allegedly stalking daughter ias officer chandigarh woman complaint alleged two men chased bike accused reportedly influence alcohol \n",
      "Original summary: haryana bjp state chief son arrested stalking woman \n",
      "Predicted summary:  bjp mla son booked raping woman assaulting\n",
      "\n",
      "\n"
     ]
    }
   ],
   "source": [
    "for i in range(10):\n",
    "  print(\"Review:\",seq2text(padded_xtest[i]))\n",
    "  print(\"Original summary:\",seq2summary(padded_ytest[i]))\n",
    "  print(\"Predicted summary:\",decode_sequence(padded_xtest[i]))\n",
    "  print(\"\\n\")"
   ]
  },
  {
   "cell_type": "markdown",
   "metadata": {
    "id": "v3Sfc9a422Rg"
   },
   "source": [
    "# **Evaluation**"
   ]
  },
  {
   "cell_type": "markdown",
   "metadata": {
    "id": "km13viOn2P4t"
   },
   "source": [
    "The **BLEU_Score** function is designed to evaluate the quality of machine-generated summaries by calculating the **BLEU** (Bilingual Evaluation Understudy) score. BLEU is a metric for evaluating the quality of text generated by a model compared to reference texts."
   ]
  },
  {
   "cell_type": "code",
   "execution_count": 38,
   "metadata": {
    "execution": {
     "iopub.execute_input": "2024-08-11T16:27:38.242538Z",
     "iopub.status.busy": "2024-08-11T16:27:38.242256Z",
     "iopub.status.idle": "2024-08-11T16:27:38.247564Z",
     "shell.execute_reply": "2024-08-11T16:27:38.246672Z",
     "shell.execute_reply.started": "2024-08-11T16:27:38.242511Z"
    },
    "trusted": true
   },
   "outputs": [],
   "source": [
    "#Function Definition\n",
    "def BLEU_Score(y_test, y_pred):\n",
    "    \n",
    "    #Convert Target Summary (y_test) to Readable Text:\n",
    "    references = [[seq2summary(y_test).split(\" \")]]\n",
    "    \n",
    "    #Convert Predicted Summary (y_pred) to Readable Text:\n",
    "    candidates = [decode_sequence(y_pred.reshape(1,max_length_x)).split(\" \")]\n",
    "    \n",
    "    #Compute BLEU Score:\n",
    "    return corpus_bleu(references, candidates)\n"
   ]
  },
  {
   "cell_type": "markdown",
   "metadata": {},
   "source": [
    "The code snippet calculates and prints the average BLEU score for the first 500 test samples"
   ]
  },
  {
   "cell_type": "code",
   "execution_count": 39,
   "metadata": {
    "execution": {
     "iopub.execute_input": "2024-08-11T16:27:38.249641Z",
     "iopub.status.busy": "2024-08-11T16:27:38.249354Z",
     "iopub.status.idle": "2024-08-11T16:30:56.122392Z",
     "shell.execute_reply": "2024-08-11T16:30:56.121429Z",
     "shell.execute_reply.started": "2024-08-11T16:27:38.249601Z"
    },
    "trusted": true
   },
   "outputs": [
    {
     "name": "stderr",
     "output_type": "stream",
     "text": [
      "/opt/conda/lib/python3.7/site-packages/nltk/translate/bleu_score.py:490: UserWarning: \n",
      "Corpus/Sentence contains 0 counts of 2-gram overlaps.\n",
      "BLEU scores might be undesirable; use SmoothingFunction().\n",
      "  warnings.warn(_msg)\n",
      "/opt/conda/lib/python3.7/site-packages/nltk/translate/bleu_score.py:490: UserWarning: \n",
      "Corpus/Sentence contains 0 counts of 3-gram overlaps.\n",
      "BLEU scores might be undesirable; use SmoothingFunction().\n",
      "  warnings.warn(_msg)\n",
      "/opt/conda/lib/python3.7/site-packages/nltk/translate/bleu_score.py:490: UserWarning: \n",
      "Corpus/Sentence contains 0 counts of 4-gram overlaps.\n",
      "BLEU scores might be undesirable; use SmoothingFunction().\n",
      "  warnings.warn(_msg)\n"
     ]
    },
    {
     "name": "stdout",
     "output_type": "stream",
     "text": [
      "0.5654092000883735\n"
     ]
    }
   ],
   "source": [
    "from nltk.translate.bleu_score import corpus_bleu\n",
    "\n",
    "#Initialize an Empty List:\n",
    "scores=[]\n",
    "\n",
    "#Loop Through First 500 Test Samples:\n",
    "for i in range(0,500):\n",
    "    \n",
    "    #Calculate BLEU Score for Each Sample:\n",
    "    scores.append(BLEU_Score(padded_ytest[i],padded_xtest[i]))\n",
    "    \n",
    "#Calculate and Print the Average BLEU Score:\n",
    "print(np.mean(scores))"
   ]
  },
  {
   "cell_type": "markdown",
   "metadata": {},
   "source": [
    "The Universal Sentence Encoder is designed to provide embeddings for sentences\n",
    "* **Purpose**: To load a pre-trained Universal Sentence Encoder model from TensorFlow Hub, which can be used to convert sentences into vector embeddings for various natural language processing tasks.\n",
    "* **Inputs**: The URL of the pre-trained model.\n",
    "* **Outputs**: A confirmation message that the model has been successfully loaded and is ready for use."
   ]
  },
  {
   "cell_type": "code",
   "execution_count": 40,
   "metadata": {
    "execution": {
     "iopub.execute_input": "2024-08-11T16:30:56.124396Z",
     "iopub.status.busy": "2024-08-11T16:30:56.124021Z",
     "iopub.status.idle": "2024-08-11T16:31:26.926095Z",
     "shell.execute_reply": "2024-08-11T16:31:26.925094Z",
     "shell.execute_reply.started": "2024-08-11T16:30:56.124354Z"
    },
    "id": "Z516n1wQSgn1",
    "outputId": "83eac699-47fc-4854-a02e-b39ed8af9f50",
    "trusted": true
   },
   "outputs": [
    {
     "name": "stdout",
     "output_type": "stream",
     "text": [
      "module https://tfhub.dev/google/universal-sentence-encoder/4 loaded\n"
     ]
    }
   ],
   "source": [
    "import tensorflow_hub as hub\n",
    "from scipy import spatial\n",
    "\n",
    "#Define the URL for the Model:\n",
    "module_url = \"https://tfhub.dev/google/universal-sentence-encoder/4\"\n",
    "\n",
    "#Load the Model from TensorFlow Hub:\n",
    "sentence_encoder = hub.load(module_url)\n",
    "\n",
    "#Print Confirmation Message:\n",
    "print (\"module %s loaded\" % module_url)"
   ]
  },
  {
   "cell_type": "markdown",
   "metadata": {},
   "source": [
    "The cosine similarity score provides a way to evaluate how closely the generated summaries match the actual summaries in terms of their semantic content."
   ]
  },
  {
   "cell_type": "code",
   "execution_count": 43,
   "metadata": {
    "execution": {
     "iopub.execute_input": "2024-08-11T16:57:55.622937Z",
     "iopub.status.busy": "2024-08-11T16:57:55.622519Z",
     "iopub.status.idle": "2024-08-11T16:57:55.629453Z",
     "shell.execute_reply": "2024-08-11T16:57:55.628551Z",
     "shell.execute_reply.started": "2024-08-11T16:57:55.622894Z"
    },
    "id": "phm5tVv6yCZ9",
    "trusted": true
   },
   "outputs": [],
   "source": [
    "#Function Definition\n",
    "def cosine_similarity(padded_xval, padded_yval):\n",
    "    \n",
    "    #Initialize an Empty List for Scores:\n",
    "    scores = []\n",
    "    for i in range(len(padded_xval)):\n",
    "        \n",
    "        #Convert Token Sequences to Text:\n",
    "        str1 = seq2summary(padded_yval[i])\n",
    "        str2 = decode_sequence(padded_xval[i])\n",
    "        \n",
    "        #Get Sentence Embeddings:\n",
    "        embeddings = sentence_encoder([str1, str2]).numpy()\n",
    "        \n",
    "        #Compute Cosine Similarity:\n",
    "        result = 1 - spatial.distance.cosine(embeddings[0], embeddings[1])\n",
    "        \n",
    "        #Append the Similarity Score:\n",
    "        scores.append(result)\n",
    "        \n",
    "    #Return the List of Scores:\n",
    "    return scores"
   ]
  },
  {
   "cell_type": "code",
   "execution_count": 44,
   "metadata": {
    "execution": {
     "iopub.execute_input": "2024-08-11T16:57:56.246064Z",
     "iopub.status.busy": "2024-08-11T16:57:56.245699Z",
     "iopub.status.idle": "2024-08-11T17:01:29.301965Z",
     "shell.execute_reply": "2024-08-11T17:01:29.301060Z",
     "shell.execute_reply.started": "2024-08-11T16:57:56.246033Z"
    },
    "id": "SoB-bWnvcNC9",
    "outputId": "a83b5641-48b0-4ac3-916c-7a0b6d62f644",
    "trusted": true
   },
   "outputs": [
    {
     "data": {
      "text/plain": [
       "0.4240491009671241"
      ]
     },
     "execution_count": 44,
     "metadata": {},
     "output_type": "execute_result"
    }
   ],
   "source": [
    "#Compute Cosine Similarity Scores:\n",
    "scores = cosine_similarity(padded_xtest[:500],padded_ytest[:500] )\n",
    "\n",
    "#Calculate the Mean Cosine Similarity Score:\n",
    "np.mean(scores)"
   ]
  }
 ],
 "metadata": {
  "kaggle": {
   "accelerator": "none",
   "dataSources": [
    {
     "datasetId": 213609,
     "sourceId": 464671,
     "sourceType": "datasetVersion"
    },
    {
     "datasetId": 1895,
     "sourceId": 791838,
     "sourceType": "datasetVersion"
    }
   ],
   "dockerImageVersionId": 30121,
   "isGpuEnabled": false,
   "isInternetEnabled": true,
   "language": "python",
   "sourceType": "notebook"
  },
  "kernelspec": {
   "display_name": "Python 3",
   "language": "python",
   "name": "python3"
  },
  "language_info": {
   "codemirror_mode": {
    "name": "ipython",
    "version": 3
   },
   "file_extension": ".py",
   "mimetype": "text/x-python",
   "name": "python",
   "nbconvert_exporter": "python",
   "pygments_lexer": "ipython3",
   "version": "3.7.10"
  }
 },
 "nbformat": 4,
 "nbformat_minor": 4
}
