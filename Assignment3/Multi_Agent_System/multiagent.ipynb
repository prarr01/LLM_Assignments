{
 "cells": [
  {
   "cell_type": "markdown",
   "id": "1852c73d",
   "metadata": {},
   "source": [
    "Simple multi-agent LLM system is designed using the Flan-T5-Base model, where each agent (planner, worker/answerer, summarizer) performs specific subtasks such as breaking down queries, generating responses, and combining results, with communication implemented via message passing to enable collaborative problem-solving in a lightweight, API-free, and modular setup suitable for low-resource environments."
   ]
  },
  {
   "cell_type": "code",
   "execution_count": 1,
   "id": "d1383561",
   "metadata": {},
   "outputs": [
    {
     "name": "stderr",
     "output_type": "stream",
     "text": [
      "d:\\Undergraduate_Ai\\Sem-7\\LLM\\.venv\\Lib\\site-packages\\tqdm\\auto.py:21: TqdmWarning: IProgress not found. Please update jupyter and ipywidgets. See https://ipywidgets.readthedocs.io/en/stable/user_install.html\n",
      "  from .autonotebook import tqdm as notebook_tqdm\n"
     ]
    }
   ],
   "source": [
    "from transformers import pipeline, AutoModelForSeq2SeqLM, AutoTokenizer\n"
   ]
  },
  {
   "cell_type": "code",
   "execution_count": 2,
   "id": "d01d54e9",
   "metadata": {},
   "outputs": [
    {
     "name": "stderr",
     "output_type": "stream",
     "text": [
      "Xet Storage is enabled for this repo, but the 'hf_xet' package is not installed. Falling back to regular HTTP download. For better performance, install the package with: `pip install huggingface_hub[hf_xet]` or `pip install hf_xet`\n",
      "Xet Storage is enabled for this repo, but the 'hf_xet' package is not installed. Falling back to regular HTTP download. For better performance, install the package with: `pip install huggingface_hub[hf_xet]` or `pip install hf_xet`\n"
     ]
    }
   ],
   "source": [
    "model_name = \"google/flan-t5-base\"\n",
    "tokenizer = AutoTokenizer.from_pretrained(model_name)\n",
    "model = AutoModelForSeq2SeqLM.from_pretrained(model_name)"
   ]
  },
  {
   "cell_type": "code",
   "execution_count": 3,
   "id": "587eaab0",
   "metadata": {},
   "outputs": [
    {
     "name": "stderr",
     "output_type": "stream",
     "text": [
      "Device set to use cpu\n"
     ]
    }
   ],
   "source": [
    "pipe = pipeline(\"text2text-generation\", model=model, tokenizer=tokenizer, max_new_tokens=200)"
   ]
  },
  {
   "cell_type": "markdown",
   "id": "a47ea118",
   "metadata": {},
   "source": [
    "#### Planner Agent"
   ]
  },
  {
   "cell_type": "code",
   "execution_count": 4,
   "id": "7e0ad037",
   "metadata": {},
   "outputs": [],
   "source": [
    "class PlannerAgent:\n",
    "    def plan(self, question):\n",
    "        prompt = f\"Break the following task into 2-3 subtasks:\\n{question}\"\n",
    "        response = pipe(prompt)[0][\"generated_text\"]\n",
    "        return [task.strip() for task in response.split('\\n') if task.strip()]"
   ]
  },
  {
   "cell_type": "markdown",
   "id": "0e50d645",
   "metadata": {},
   "source": [
    "#### Answer Agent\n"
   ]
  },
  {
   "cell_type": "code",
   "execution_count": 5,
   "id": "6515fa6d",
   "metadata": {},
   "outputs": [],
   "source": [
    "class AnswererAgent:\n",
    "    def answer(self, subtask, context):\n",
    "        prompt = f\"Answer this subtask using the given context.\\nSubtask: {subtask}\\nContext: {context}\\nAnswer:\"\n",
    "        return pipe(prompt)[0][\"generated_text\"]\n"
   ]
  },
  {
   "cell_type": "markdown",
   "id": "1969841e",
   "metadata": {},
   "source": [
    "#### Summarizer Agent"
   ]
  },
  {
   "cell_type": "code",
   "execution_count": 6,
   "id": "7a0479aa",
   "metadata": {},
   "outputs": [],
   "source": [
    "class SummarizerAgent:\n",
    "    def summarize(self, responses):\n",
    "        prompt = f\"Summarize the following responses into a concise final answer:\\n{' '.join(responses)}\"\n",
    "        return pipe(prompt)[0][\"generated_text\"]"
   ]
  },
  {
   "cell_type": "markdown",
   "id": "4fdd4e17",
   "metadata": {},
   "source": [
    "#### Simulater context source\n"
   ]
  },
  {
   "cell_type": "code",
   "execution_count": 7,
   "id": "891d7056",
   "metadata": {},
   "outputs": [],
   "source": [
    "def get_context(subtask):\n",
    "    contexts = {\n",
    "        \"Find recent data on climate change effects.\": \"Global temperatures have risen by ~1.2°C since pre-industrial times...\",\n",
    "        \"Analyze how temperature changes affect crop yields.\": \"Higher temperatures reduce wheat and rice yields due to heat stress...\",\n",
    "        \"Summarize agricultural adaptation strategies.\": \"Farmers are adopting drought-resistant crops, precision irrigation, and agroforestry...\"\n",
    "    }\n",
    "    return contexts.get(subtask, \"No context available.\")\n",
    "\n"
   ]
  },
  {
   "cell_type": "markdown",
   "id": "603113a2",
   "metadata": {},
   "source": [
    "#### Run mullti-agent system"
   ]
  },
  {
   "cell_type": "code",
   "execution_count": 9,
   "id": "4d9bb79a",
   "metadata": {},
   "outputs": [
    {
     "name": "stdout",
     "output_type": "stream",
     "text": [
      "Planning Subtasks...\n",
      "Subtasks: ['The impact of climate change on global agriculture.']\n",
      "\n",
      "Solving Subtasks...\n",
      "\n",
      "✅ The impact of climate change on global agriculture.\n",
      "There is no evidence that climate change has a negative impact on global agriculture.\n",
      "\n",
      "Final Summary:\n",
      "It is not clear whether climate change has a negative impact on global agriculture.\n"
     ]
    }
   ],
   "source": [
    "if __name__ == \"__main__\":\n",
    "    planner = PlannerAgent()\n",
    "    answerer = AnswererAgent()\n",
    "    summarizer = SummarizerAgent()\n",
    "\n",
    "    user_query = \"Explain the impact of climate change on global agriculture.\"\n",
    "\n",
    "    print(\"Planning Subtasks...\")\n",
    "    subtasks = planner.plan(user_query)\n",
    "    print(\"Subtasks:\", subtasks)\n",
    "\n",
    "    print(\"\\nSolving Subtasks...\")\n",
    "    answers = []\n",
    "    for subtask in subtasks:\n",
    "        context = get_context(subtask)\n",
    "        answer = answerer.answer(subtask, context)\n",
    "        answers.append(answer)\n",
    "        print(f\"\\n✅ {subtask}\\n{answer}\")\n",
    "\n",
    "    print(\"\\nFinal Summary:\")\n",
    "    summary = summarizer.summarize(answers)\n",
    "    print(summary)"
   ]
  }
 ],
 "metadata": {
  "kernelspec": {
   "display_name": ".venv",
   "language": "python",
   "name": "python3"
  },
  "language_info": {
   "codemirror_mode": {
    "name": "ipython",
    "version": 3
   },
   "file_extension": ".py",
   "mimetype": "text/x-python",
   "name": "python",
   "nbconvert_exporter": "python",
   "pygments_lexer": "ipython3",
   "version": "3.11.5"
  }
 },
 "nbformat": 4,
 "nbformat_minor": 5
}
