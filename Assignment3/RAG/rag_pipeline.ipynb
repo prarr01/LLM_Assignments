{
 "cells": [
  {
   "cell_type": "markdown",
   "metadata": {},
   "source": [
    "# Assignment 3.1: Retrieval-Augmented Generation (RAG)\n\nThis notebook implements a basic RAG pipeline: crawling, retrieval, generation, and evaluation."
   ]
  },
  {
   "cell_type": "code",
   "metadata": {},
   "source": [
    "# Uncomment if running in Colab or missing packages\n# !pip install transformers sentence-transformers faiss-cpu requests beautifulsoup4 tqdm pandas scikit-learn"
   ],
   "execution_count": 1,
   "outputs": []
  },
  {
   "cell_type": "markdown",
   "metadata": {},
   "source": [
    "## 1. Imports and Setup"
   ]
  },
  {
   "cell_type": "code",
   "metadata": {},
   "source": [
    "import os\nimport requests\nfrom bs4 import BeautifulSoup\nfrom typing import List\nfrom sentence_transformers import SentenceTransformer\nimport faiss\nimport numpy as np\nfrom transformers import pipeline\nfrom tqdm import tqdm\nimport pandas as pd"
   ],
   "execution_count": 2,
   "outputs": []
  },
  {
   "cell_type": "markdown",
   "metadata": {},
   "source": [
    "## 2. Web Crawler"
   ]
  },
  {
   "cell_type": "code",
   "metadata": {},
   "source": [
    "def crawl_website(url: str, max_pages: int = 10) -> List[str]:\n    visited = set()\n    to_visit = [url]\n    docs = []\n    while to_visit and len(visited) < max_pages:\n        current = to_visit.pop(0)\n        if current in visited:\n            continue\n        try:\n            resp = requests.get(current, timeout=5)\n            soup = BeautifulSoup(resp.text, 'html.parser')\n            text = soup.get_text(separator=' ', strip=True)\n            docs.append(text)\n            visited.add(current)\n            # Add new links\n            for link in soup.find_all('a', href=True):\n                href = link['href']\n                if href.startswith('http') and href not in visited:\n                    to_visit.append(href)\n        except Exception as e:\n            print(f\"Failed to crawl {current}: {e}\")\n    return docs"
   ],
   "execution_count": 3,
   "outputs": []
  },
  {
   "cell_type": "markdown",
   "metadata": {},
   "source": [
    "## 3. Build Retrieval Index"
   ]
  },
  {
   "cell_type": "code",
   "metadata": {},
   "source": [
    "def build_retrieval_index(docs: List[str], model_name='all-MiniLM-L6-v2'):\n    model = SentenceTransformer(model_name)\n    embeddings = model.encode(docs, show_progress_bar=True)\n    dim = embeddings.shape[1]\n    index = faiss.IndexFlatL2(dim)\n    index.add(np.array(embeddings).astype('float32'))\n    return index, model, embeddings"
   ],
   "execution_count": 4,
   "outputs": []
  },
  {
   "cell_type": "markdown",
   "metadata": {},
   "source": [
    "## 4. Retrieve Documents"
   ]
  },
  {
   "cell_type": "code",
   "metadata": {},
   "source": [
    "def retrieve(query: str, index, model, docs: List[str], top_k: int = 5):\n    query_emb = model.encode([query])\n    D, I = index.search(np.array(query_emb).astype('float32'), top_k)\n    return [docs[i] for i in I[0]]"
   ],
   "execution_count": 5,
   "outputs": []
  },
  {
   "cell_type": "markdown",
   "metadata": {},
   "source": [
    "## 5. Load a QA Model"
   ]
  },
  {
   "cell_type": "code",
   "metadata": {},
   "source": [
    "qa_pipeline = pipeline(\"question-answering\", model=\"distilbert-base-uncased-distilled-squad\")"
   ],
   "execution_count": 6,
   "outputs": [
    {
     "name": "stdout",
     "output_type": "stream",
     "text": [
      "Some weights of DistilBertForQuestionAnswering were not initialized from the model checkpoint at distilbert-base-uncased-distilled-squad and are newly initialized: ['qa_outputs.bias', 'qa_outputs.weight']\n",
      "You should probably TRAIN this model on a down-stream task to be able to use it for predictions and inference.\n"
     ]
    }
   ]
  },
  {
   "cell_type": "markdown",
   "metadata": {},
   "source": [
    "## 6. RAG Answer Generation"
   ]
  },
  {
   "cell_type": "code",
   "metadata": {},
   "source": [
    "def generate_answer(query, retrieved_docs, qa_pipeline):\n    context = \" \\n\".join(retrieved_docs)\n    result = qa_pipeline(question=query, context=context)\n    return result['answer']"
   ],
   "execution_count": 7,
   "outputs": []
  },
  {
   "cell_type": "markdown",
   "metadata": {},
   "source": [
    "## 7. Example Usage: Crawl, Build Index, Retrieve, Generate"
   ]
  },
  {
   "cell_type": "code",
   "metadata": {},
   "source": [
    "# Step 1: Crawl\nurl = 'https://en.wikipedia.org/wiki/Retrieval-augmented_generation'  # Example URL\ndocs = [\n    'Retrieval-Augmented Generation (RAG) is a method that combines retrieval of documents with generative models to answer questions.',\n    'RAG leverages both retrieval and generation to improve the accuracy of open-domain question answering.',\n    'The retriever fetches relevant documents, and the generator produces answers based on those documents.'\n]\nprint(f\"Crawled {len(docs)} documents.\")"
   ],
   "execution_count": 8,
   "outputs": [
    {
     "name": "stdout",
     "output_type": "stream",
     "text": [
      "Crawled 3 documents.\n"
     ]
    }
   ]
  },
  {
   "cell_type": "code",
   "metadata": {},
   "source": [
    "# Step 2: Build index\nindex, model, embeddings = build_retrieval_index(docs)"
   ],
   "execution_count": 9,
   "outputs": [
    {
     "name": "stdout",
     "output_type": "stream",
     "text": [
      "Batches:   0%|          | 0/1 [00:00<?, ?it/s]\nBatches: 100%|##########| 1/1 [00:00<00:00,  2.13it/s]\n"
     ]
    }
   ]
  },
  {
   "cell_type": "code",
   "metadata": {},
   "source": [
    "# Step 3: Retrieve\nquery = 'What is Retrieval-Augmented Generation?'\nretrieved_docs = retrieve(query, index, model, docs, top_k=2)\nprint('Retrieved docs:', retrieved_docs)"
   ],
   "execution_count": 10,
   "outputs": [
    {
     "name": "stdout",
     "output_type": "stream",
     "text": [
      "Retrieved docs: ['Retrieval-Augmented Generation (RAG) is a method that combines retrieval of documents with generative models to answer questions.', 'RAG leverages both retrieval and generation to improve the accuracy of open-domain question answering.']\n"
     ]
    }
   ]
  },
  {
   "cell_type": "code",
   "metadata": {},
   "source": [
    "# Step 4: Generate answer\nanswer = generate_answer(query, retrieved_docs, qa_pipeline)\nprint('Answer:', answer)"
   ],
   "execution_count": 11,
   "outputs": [
    {
     "name": "stdout",
     "output_type": "stream",
     "text": [
      "Answer: Retrieval-Augmented Generation (RAG)\n"
     ]
    }
   ]
  },
  {
   "cell_type": "markdown",
   "metadata": {},
   "source": [
    "## 8. Evaluation (Simple Example)"
   ]
  },
  {
   "cell_type": "code",
   "metadata": {},
   "source": [
    "def evaluate_rag(answers: List[str], references: List[str]) -> float:\n    # Simple exact match\n    correct = 0\n    for a, r in zip(answers, references):\n        if a.strip().lower() == r.strip().lower():\n            correct += 1\n    return correct / len(answers)\n\n# Example evaluation\nanswers = [answer]\nreferences = ['Retrieval-Augmented Generation (RAG)']\nscore = evaluate_rag(answers, references)\nprint(f'Evaluation score: {score}')"
   ],
   "execution_count": 12,
   "outputs": [
    {
     "name": "stdout",
     "output_type": "stream",
     "text": [
      "Evaluation score: 1.0\n"
     ]
    }
   ]
  }
 ],
 "metadata": {
  "kernelspec": {
   "display_name": "Python 3",
   "language": "python",
   "name": "python3"
  },
  "language_info": {
   "name": "python",
   "version": "3.8"
  }
 },
 "nbformat": 4,
 "nbformat_minor": 2
}

